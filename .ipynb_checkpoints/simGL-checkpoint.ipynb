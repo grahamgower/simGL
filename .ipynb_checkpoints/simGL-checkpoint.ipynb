{
 "cells": [
  {
   "cell_type": "markdown",
   "id": "40219d9f-47d9-4a91-a9da-63cf3d6ad19d",
   "metadata": {},
   "source": [
    "# Simulate genotype likelihoods (GL) from tree structure data\n",
    "\n",
    "In this jupyternotebook I'll create a function `sim_GL()` in order to simulate GL from tree structure data handled with `tskit` package. For that, I'm based on Graham Gower's gist and `ANGSD`'s `msToGlf` program. \n",
    "\n",
    "Graham's gist:\n",
    "\n",
    "https://gist.github.com/grahamgower/10779172a4a8368f993e154bf69dbe33\n",
    "\n",
    "# 0. Importing packages for python and R"
   ]
  },
  {
   "cell_type": "code",
   "execution_count": 246,
   "id": "a3c58dad-95fa-4fe1-8971-521842ea4182",
   "metadata": {},
   "outputs": [],
   "source": [
    "import time\n",
    "import numpy as np\n",
    "import pandas as pd \n",
    "import msprime\n",
    "\n",
    "from rpy2.robjects import r, pandas2ri\n",
    "%load_ext rpy2.ipython\n",
    "pandas2ri.activate()"
   ]
  },
  {
   "cell_type": "code",
   "execution_count": 247,
   "id": "966418dd-9400-405c-8983-a4714ad51704",
   "metadata": {},
   "outputs": [
    {
     "name": "stderr",
     "output_type": "stream",
     "text": [
      "R[write to console]: ── Attaching packages ─────────────────────────────────────── tidyverse 1.3.1 ──\n",
      "\n",
      "R[write to console]: ✔ tibble  3.1.6     ✔ dplyr   1.0.7\n",
      "✔ tidyr   1.1.4     ✔ stringr 1.4.0\n",
      "✔ readr   2.1.1     ✔ forcats 0.5.1\n",
      "✔ purrr   0.3.4     \n",
      "\n",
      "R[write to console]: ── Conflicts ────────────────────────────────────────── tidyverse_conflicts() ──\n",
      "✖ dplyr::filter() masks stats::filter()\n",
      "✖ dplyr::lag()    masks stats::lag()\n",
      "\n"
     ]
    }
   ],
   "source": [
    "%%R\n",
    ".libPaths(c(\"/maps/projects/racimolab/people/qxz396/spaceNNtime/renv/library/R-4.1/x86_64-redhat-linux-gnu\", \"/tmp/Rtmp9Hi1cZ/renv-system-library\"))\n",
    "\n",
    "library(ggplot2)\n",
    "library(cowplot)\n",
    "library(tidyverse)"
   ]
  },
  {
   "cell_type": "markdown",
   "id": "a919be89-a6df-490b-be27-bfbb8a5aa09d",
   "metadata": {},
   "source": [
    "# 1. Simulate a haplotype matrix\n",
    "\n",
    "From Graham's code, I use a function of his to simulate a tree"
   ]
  },
  {
   "cell_type": "code",
   "execution_count": 228,
   "id": "d2d9fdc3-ee40-4a1b-8995-c503bca50399",
   "metadata": {},
   "outputs": [
    {
     "data": {
      "text/html": [
       "\n",
       "            <div>\n",
       "              <style>\n",
       "                .tskit-table thead tr th {text-align: left;padding: 0.5em 0.5em;}\n",
       "                .tskit-table tbody tr td {padding: 0.5em 0.5em;}\n",
       "                .tskit-table tbody tr td:first-of-type {text-align: left;}\n",
       "                .tskit-details-label {vertical-align: top; padding-right:5px;}\n",
       "                .tskit-table-set {display: inline-flex;flex-wrap: wrap;margin: -12px 0 0 -12px;width: calc(100% + 12px);}\n",
       "                .tskit-table-set-table {margin: 12px 0 0 12px;}\n",
       "                details {display: inline-block;}\n",
       "                summary {cursor: pointer; outline: 0; display: list-item;}\n",
       "              </style>\n",
       "              <div class=\"tskit-table-set\">\n",
       "                <div class=\"tskit-table-set-table\">\n",
       "                  <table class=\"tskit-table\">\n",
       "                    <thead>\n",
       "                      <tr>\n",
       "                        <th style=\"padding:0;line-height:21px;\">\n",
       "                          <img style=\"height: 32px;display: inline-block;padding: 3px 5px 3px 0;\" src=\"https://raw.githubusercontent.com/tskit-dev/administrative/main/tskit_logo.svg\"/>\n",
       "                          <a target=\"_blank\" href=\"https://tskit.readthedocs.io/en/latest/python-api.html#the-treesequence-class\"> Tree Sequence </a>\n",
       "                        </th>\n",
       "                      </tr>\n",
       "                    </thead>\n",
       "                    <tbody>\n",
       "                      <tr><td>Trees</td><td>98</td></tr>\n",
       "                      <tr><td>Sequence Length</td><td>100000.0</td></tr>\n",
       "                      <tr><td>Sample Nodes</td><td>10</td></tr>\n",
       "                      <tr><td>Total Size</td><td>19.3 KiB</td></tr>\n",
       "                      <tr>\n",
       "                        <td>Metadata</td><td style=\"text-align: left;\">No Metadata</td></tr>\n",
       "                    </tbody>\n",
       "                  </table>\n",
       "                </div>\n",
       "                <div class=\"tskit-table-set-table\">\n",
       "                  <table class=\"tskit-table\">\n",
       "                    <thead>\n",
       "                      <tr>\n",
       "                        <th style=\"line-height:21px;\">Table</th>\n",
       "                        <th>Rows</th>\n",
       "                        <th>Size</th>\n",
       "                        <th>Has Metadata</th>\n",
       "                      </tr>\n",
       "                    </thead>\n",
       "                    <tbody>\n",
       "                    \n",
       "                  <tr>\n",
       "                    <td>Edges</td>\n",
       "                      <td>313</td>\n",
       "                      <td>8.6 KiB</td>\n",
       "                      <td style=\"text-align: center;\">\n",
       "                        \n",
       "                      </td>\n",
       "                    </tr>\n",
       "                \n",
       "                  <tr>\n",
       "                    <td>Individuals</td>\n",
       "                      <td>5</td>\n",
       "                      <td>92 Bytes</td>\n",
       "                      <td style=\"text-align: center;\">\n",
       "                        \n",
       "                      </td>\n",
       "                    </tr>\n",
       "                \n",
       "                  <tr>\n",
       "                    <td>Migrations</td>\n",
       "                      <td>0</td>\n",
       "                      <td>4 Bytes</td>\n",
       "                      <td style=\"text-align: center;\">\n",
       "                        \n",
       "                      </td>\n",
       "                    </tr>\n",
       "                \n",
       "                  <tr>\n",
       "                    <td>Mutations</td>\n",
       "                      <td>115</td>\n",
       "                      <td>3.3 KiB</td>\n",
       "                      <td style=\"text-align: center;\">\n",
       "                        \n",
       "                      </td>\n",
       "                    </tr>\n",
       "                \n",
       "                  <tr>\n",
       "                    <td>Nodes</td>\n",
       "                      <td>88</td>\n",
       "                      <td>2.1 KiB</td>\n",
       "                      <td style=\"text-align: center;\">\n",
       "                        \n",
       "                      </td>\n",
       "                    </tr>\n",
       "                \n",
       "                  <tr>\n",
       "                    <td>Populations</td>\n",
       "                      <td>1</td>\n",
       "                      <td>216 Bytes</td>\n",
       "                      <td style=\"text-align: center;\">\n",
       "                        ✅\n",
       "                      </td>\n",
       "                    </tr>\n",
       "                \n",
       "                  <tr>\n",
       "                    <td>Provenances</td>\n",
       "                      <td>1</td>\n",
       "                      <td>779 Bytes</td>\n",
       "                      <td style=\"text-align: center;\">\n",
       "                        \n",
       "                      </td>\n",
       "                    </tr>\n",
       "                \n",
       "                  <tr>\n",
       "                    <td>Sites</td>\n",
       "                      <td>115</td>\n",
       "                      <td>1.9 KiB</td>\n",
       "                      <td style=\"text-align: center;\">\n",
       "                        \n",
       "                      </td>\n",
       "                    </tr>\n",
       "                \n",
       "                    </tbody>\n",
       "                  </table>\n",
       "                </div>\n",
       "              </div>\n",
       "            </div>\n",
       "            "
      ],
      "text/plain": [
       "<tskit.trees.TreeSequence at 0x7f8615f3fee0>"
      ]
     },
     "execution_count": 228,
     "metadata": {},
     "output_type": "execute_result"
    }
   ],
   "source": [
    "def sim(seeds=(1, 2), n = 5):\n",
    "    ts = msprime.sim_ancestry(\n",
    "        population_size=10_000,\n",
    "        samples=n,\n",
    "        sequence_length=100_000,\n",
    "        recombination_rate=1.25e-8,\n",
    "        random_seed=seeds[0],\n",
    "        record_provenance=False,\n",
    "    )\n",
    "    ts = msprime.sim_mutations(ts, rate=1.25e-8, random_seed=seeds[1])\n",
    "    return ts\n",
    "\n",
    "ts = sim(seeds=(1, 2))\n",
    "ts"
   ]
  },
  {
   "cell_type": "markdown",
   "id": "ddff22f8-60ec-46bd-a2c4-eeab22307eb9",
   "metadata": {},
   "source": [
    "Comments:\n",
    "\n",
    "1. Why is it necessary to give different seeds?\n",
    "\n",
    "From that, I extract the positions (reusing Graham's code):"
   ]
  },
  {
   "cell_type": "code",
   "execution_count": 15,
   "id": "6db8f3c3-8a19-4d52-ae31-8f0cc3eb6105",
   "metadata": {},
   "outputs": [
    {
     "name": "stdout",
     "output_type": "stream",
     "text": [
      "(115,)\n"
     ]
    },
    {
     "data": {
      "text/plain": [
       "array([  233.,   295.,  1688.,  2205.,  2515.,  2795.,  3357.,  4219.,\n",
       "        4272.,  4337.,  4691.,  4824.,  5616.,  6598.,  6633.,  6886.,\n",
       "        7378.,  7504.,  9248.,  9611., 10458., 11168., 11563., 12840.,\n",
       "       13258., 13476., 14359., 14469., 15237., 15606., 15713., 16003.,\n",
       "       16835., 17014., 17717., 18287., 18893., 19484., 25020., 25396.,\n",
       "       26548., 27485., 27544., 27797., 30140., 30240., 32132., 32434.,\n",
       "       32511., 32597., 32703., 32836., 32904., 32990., 34452., 35289.,\n",
       "       36367., 36682., 37246., 39165., 39567., 41466., 42729., 43633.,\n",
       "       43919., 45359., 45754., 46347., 49205., 49306., 49511., 49675.,\n",
       "       50698., 50728., 54036., 54442., 55979., 56654., 56876., 56993.,\n",
       "       57373., 60741., 60827., 61060., 61178., 64234., 67527., 67790.,\n",
       "       70380., 73119., 73319., 74320., 74773., 74871., 74921., 78772.,\n",
       "       79457., 79968., 81191., 82526., 82548., 83269., 83744., 84376.,\n",
       "       84650., 86147., 86182., 89241., 90613., 92725., 92941., 93545.,\n",
       "       94704., 94773., 96136.])"
      ]
     },
     "execution_count": 15,
     "metadata": {},
     "output_type": "execute_result"
    }
   ],
   "source": [
    "pos = np.array(ts.tables.sites.position)\n",
    "print(pos.shape)\n",
    "pos"
   ]
  },
  {
   "cell_type": "markdown",
   "id": "9cb45e79-703c-4274-8468-62741a20307c",
   "metadata": {},
   "source": [
    "and extracting the haplotype allele counts (0 = anc allele, 1 = der allele)"
   ]
  },
  {
   "cell_type": "code",
   "execution_count": 163,
   "id": "ec6c0f9c-57a7-4b2e-bda5-700084d4e668",
   "metadata": {},
   "outputs": [
    {
     "name": "stdout",
     "output_type": "stream",
     "text": [
      "(115, 10)\n"
     ]
    },
    {
     "data": {
      "text/plain": [
       "array([[1, 1, 1, ..., 1, 1, 1],\n",
       "       [0, 0, 0, ..., 0, 0, 0],\n",
       "       [0, 1, 0, ..., 1, 0, 0],\n",
       "       ...,\n",
       "       [0, 1, 0, ..., 1, 0, 0],\n",
       "       [0, 0, 0, ..., 0, 0, 1],\n",
       "       [0, 0, 0, ..., 0, 0, 0]], dtype=int8)"
      ]
     },
     "execution_count": 163,
     "metadata": {},
     "output_type": "execute_result"
    }
   ],
   "source": [
    "M = ts.genotype_matrix()\n",
    "print(M.shape)\n",
    "M"
   ]
  },
  {
   "cell_type": "markdown",
   "id": "e1e2c704-a2bd-4f18-a336-867573ebcb34",
   "metadata": {},
   "source": [
    "> ### Comments:\n",
    "1. I change dimensions from Graham's original code and make rows (first dimension) to correspond to SNPs and columns (second dimension) to correspond to haplotypes."
   ]
  },
  {
   "cell_type": "markdown",
   "id": "94880984-f999-48d0-af93-9d34ceaefd17",
   "metadata": {},
   "source": [
    "# 2. Simulate GL\n",
    "\n",
    "To simulate the GL from haplotypic allele counts, I'm going to use a similar approach than ANGSD `msToGlf` using the GL model from GATK (as shown in the picture abovell:\n",
    "\n",
    "1. sample the mean **coverage per haplotype** (assuming that coverage is **distributed normally** among individuals with a std = 0.05\\*mean  from the mean) \n",
    "2. sample **coverage per site per haplotype** (assuming **poison distribution** with lambda equal to the haplotype coverage)\n",
    "3. sample as many **alleles reads** as depth per site per haplotype from a **multinomial distribution** with probabilities (1-e, e/3, e/3, e/3), assuming that the first position in the array corresponds to calling the correctly the allele and the rest correspond to calling an error.\n",
    "4. assuming that index 0 = A = anc, index 1 = C = der, index 2 = G, index 3 = T, I'll **organize the allele read counts** in each array drawn from the multinomial distribution to correspond to the simulated allele counts per haplotype. Then, I'll **join every two haplotypes** to get the allele read counts per diploid individual.\n",
    "5. **Compute GLs**\n",
    "\n",
    "\n",
    "![Gl](GLsim/GL.png)\n",
    "\n",
    "source: \n",
    "1. http://www.popgen.dk/angsd/index.php/Genotype_Likelihoods\n",
    "2. https://bmcbioinformatics.biomedcentral.com/track/pdf/10.1186/1471-2105-14-289.pdf"
   ]
  },
  {
   "cell_type": "markdown",
   "id": "ac099cee-05c2-4285-a08d-dab3721429e3",
   "metadata": {},
   "source": [
    "## 2.1. Coverage per haplotype"
   ]
  },
  {
   "cell_type": "code",
   "execution_count": 217,
   "id": "a0f6c3da-1ca1-46f5-b714-9d3ce527ae3b",
   "metadata": {},
   "outputs": [
    {
     "name": "stdout",
     "output_type": "stream",
     "text": [
      "(10,)\n"
     ]
    },
    {
     "data": {
      "text/plain": [
       "array([12.59424479, 15.09614987, 16.11133694, 15.22892879, 16.29561584,\n",
       "       19.36964883, 12.78176496, 16.41820946, 12.50079681, 15.51561687])"
      ]
     },
     "execution_count": 217,
     "metadata": {},
     "output_type": "execute_result"
    }
   ],
   "source": [
    "rng = np.random.default_rng(1234) #Why setting the seed like this?\n",
    "mean_depth = 30\n",
    "#mean_depths = rng.exponential(mean_depth, size=A.shape[1]) #Why exponential?\n",
    "mean_depths = rng.normal(loc = mean_depth/2, scale = 0.05*mean_depth, size=M.shape[1])\n",
    "print(mean_depths.shape)\n",
    "mean_depths"
   ]
  },
  {
   "cell_type": "markdown",
   "id": "05306166-03cb-41ff-8db3-1b6ca28a8ab1",
   "metadata": {},
   "source": [
    "> ### Comments:\n",
    "1. Why is the coverage per individual sampled from an exponential distribution? I usually observe this to be normally distributed. I would be also nice to be able to define beforehand the coverage per sample.\n",
    "2. Why setting the coverage like that?"
   ]
  },
  {
   "cell_type": "markdown",
   "id": "d886144b-7886-451d-9b54-0c9464937ea6",
   "metadata": {},
   "source": [
    "## 2.2. Coverage per SNP per haplotype"
   ]
  },
  {
   "cell_type": "code",
   "execution_count": 121,
   "id": "0b321b43-724f-4e47-be40-abdd5f6d1e33",
   "metadata": {},
   "outputs": [
    {
     "name": "stdout",
     "output_type": "stream",
     "text": [
      "(115, 10)\n"
     ]
    },
    {
     "data": {
      "text/plain": [
       "array([[12, 17, 19, 11, 18, 18, 17, 10, 16, 20],\n",
       "       [11,  9, 16, 15, 25, 19, 10, 18, 12, 12],\n",
       "       [11, 13, 21,  9, 18, 30, 16, 14, 18,  8],\n",
       "       [12, 13, 25, 13, 14, 19, 15, 18,  9, 14],\n",
       "       [15, 17, 17,  6, 19, 22, 18, 10,  8, 15],\n",
       "       [ 6, 15, 13, 21, 24, 10,  8, 23, 10, 15],\n",
       "       [13, 26, 19, 15, 21, 12, 13, 16, 14, 12],\n",
       "       [ 9, 23, 19,  7, 17, 22, 16, 13, 18, 18],\n",
       "       [11, 20, 14,  6, 14, 16, 14, 21,  8, 15],\n",
       "       [11, 15, 17, 15,  7, 18, 13, 18, 16, 12]])"
      ]
     },
     "execution_count": 121,
     "metadata": {},
     "output_type": "execute_result"
    }
   ],
   "source": [
    "DP = rng.poisson(mean_depths, size=M.shape)\n",
    "print(DP.shape)\n",
    "DP[:10, :]"
   ]
  },
  {
   "cell_type": "markdown",
   "id": "0ff6f91d-6fbf-4fed-addf-e8f92c20dec2",
   "metadata": {},
   "source": [
    "> ### Comments:\n",
    "\n",
    "1. I don't think reshaping is necessary\n",
    "\n",
    "## 2.3. Sampling allele reads for each haplotype and site with and without errors\n",
    "\n",
    "Base pairs are coded in the following way:\n",
    "\n",
    "1. 0 = correctly called allele\n",
    "2. 1 = 2 = 3 = error called\n",
    "\n",
    "If we check the coverage per site per haplotype..."
   ]
  },
  {
   "cell_type": "code",
   "execution_count": 154,
   "id": "8daad3e5-ff19-4439-b687-b8ce48ee8894",
   "metadata": {},
   "outputs": [
    {
     "name": "stdout",
     "output_type": "stream",
     "text": [
      "(115, 10)\n"
     ]
    },
    {
     "data": {
      "text/plain": [
       "array([[12, 17, 19, ..., 10, 16, 20],\n",
       "       [11,  9, 16, ..., 18, 12, 12],\n",
       "       [11, 13, 21, ..., 14, 18,  8],\n",
       "       ...,\n",
       "       [10, 19, 17, ..., 12, 14,  9],\n",
       "       [15, 13, 18, ..., 19, 10, 20],\n",
       "       [11, 11, 14, ..., 20, 11, 21]])"
      ]
     },
     "execution_count": 154,
     "metadata": {},
     "output_type": "execute_result"
    }
   ],
   "source": [
    "print(DP.shape)\n",
    "DP"
   ]
  },
  {
   "cell_type": "markdown",
   "id": "992223aa-36d4-4b37-8704-4efe4ff71b0d",
   "metadata": {},
   "source": [
    "This means that for the first haplotype and first position there should be 12 alleles sampled in total. I'll do that by sampling from a multinomial distribution with probabilities (1-e, e/3, e/3, e/3)."
   ]
  },
  {
   "cell_type": "code",
   "execution_count": 223,
   "id": "a98d1479-ebf4-4a51-9cf8-79aeaca358ce",
   "metadata": {},
   "outputs": [
    {
     "name": "stdout",
     "output_type": "stream",
     "text": [
      "(115, 10, 4)\n"
     ]
    },
    {
     "data": {
      "text/plain": [
       "array([[[11,  0,  0,  1],\n",
       "        [16,  0,  0,  1],\n",
       "        [15,  2,  2,  0],\n",
       "        ...,\n",
       "        [ 9,  0,  1,  0],\n",
       "        [15,  0,  1,  0],\n",
       "        [18,  0,  0,  2]],\n",
       "\n",
       "       [[11,  0,  0,  0],\n",
       "        [ 9,  0,  0,  0],\n",
       "        [16,  0,  0,  0],\n",
       "        ...,\n",
       "        [16,  2,  0,  0],\n",
       "        [10,  0,  0,  2],\n",
       "        [11,  0,  1,  0]],\n",
       "\n",
       "       [[10,  0,  1,  0],\n",
       "        [12,  1,  0,  0],\n",
       "        [17,  2,  0,  2],\n",
       "        ...,\n",
       "        [14,  0,  0,  0],\n",
       "        [17,  1,  0,  0],\n",
       "        [ 7,  0,  1,  0]],\n",
       "\n",
       "       ...,\n",
       "\n",
       "       [[10,  0,  0,  0],\n",
       "        [17,  1,  0,  1],\n",
       "        [15,  1,  0,  1],\n",
       "        ...,\n",
       "        [12,  0,  0,  0],\n",
       "        [13,  0,  0,  1],\n",
       "        [ 9,  0,  0,  0]],\n",
       "\n",
       "       [[15,  0,  0,  0],\n",
       "        [13,  0,  0,  0],\n",
       "        [17,  0,  1,  0],\n",
       "        ...,\n",
       "        [16,  1,  1,  1],\n",
       "        [10,  0,  0,  0],\n",
       "        [20,  0,  0,  0]],\n",
       "\n",
       "       [[ 9,  0,  2,  0],\n",
       "        [11,  0,  0,  0],\n",
       "        [13,  0,  0,  1],\n",
       "        ...,\n",
       "        [19,  0,  0,  1],\n",
       "        [10,  1,  0,  0],\n",
       "        [19,  1,  1,  0]]])"
      ]
     },
     "execution_count": 223,
     "metadata": {},
     "output_type": "execute_result"
    }
   ],
   "source": [
    "e = 0.05\n",
    "reads_per_haplotype = np.array([rng.multinomial(dp, [1-e, e/3, e/3, e/3]).tolist() for dp in DP.reshape(-1)]).reshape(DP.shape[0], DP.shape[1], 4)\n",
    "print(reads_per_haplotype.shape)\n",
    "reads_per_haplotype"
   ]
  },
  {
   "cell_type": "markdown",
   "id": "5cf1e9b7-d302-40cd-bacb-d8c292a68c10",
   "metadata": {},
   "source": [
    "We can see that the first line summed up is the same as the first position in the depth array (DP) shown before. Rows that have counts in places other than the first position, correspond to errors. \n",
    "\n",
    "## 2.4. Organizing allele reads for each haplotype corresponding to the allele counts simulated\n",
    "\n",
    "In this section I'll change the counts of the first and second positions of every array depending on the allele counts `M` depending on a given individual and site having the derived or ancestral allele such that in a given array:\n",
    "\n",
    "1. index 0 = A = ancestral allele\n",
    "2. index 1 = C = derived allele\n",
    "3. index 2 = G\n",
    "4. index 3 = T\n",
    "\n",
    "So, if we check the M matrix:"
   ]
  },
  {
   "cell_type": "code",
   "execution_count": 224,
   "id": "da13884f-b2f3-4360-aaef-e90664ea7e83",
   "metadata": {},
   "outputs": [
    {
     "data": {
      "text/plain": [
       "array([[1, 1, 1, ..., 1, 1, 1],\n",
       "       [0, 0, 0, ..., 0, 0, 0],\n",
       "       [0, 1, 0, ..., 1, 0, 0],\n",
       "       ...,\n",
       "       [0, 1, 0, ..., 1, 0, 0],\n",
       "       [0, 0, 0, ..., 0, 0, 1],\n",
       "       [0, 0, 0, ..., 0, 0, 0]], dtype=int8)"
      ]
     },
     "execution_count": 224,
     "metadata": {},
     "output_type": "execute_result"
    }
   ],
   "source": [
    "M"
   ]
  },
  {
   "cell_type": "markdown",
   "id": "702885fd-e711-47c3-8104-67f34475294a",
   "metadata": {},
   "source": [
    "We can see that the first haplotype has a derived allele in the first SNP. Thus, we must swap the allele read counts between the first and second position of the first array in `reads_per_haplotype`."
   ]
  },
  {
   "cell_type": "code",
   "execution_count": 225,
   "id": "c792defe-4314-4878-8cff-be18bcfdd77c",
   "metadata": {},
   "outputs": [
    {
     "name": "stdout",
     "output_type": "stream",
     "text": [
      "(115, 10, 4)\n"
     ]
    },
    {
     "data": {
      "text/plain": [
       "array([[[ 0, 11,  0,  1],\n",
       "        [ 0, 16,  0,  1],\n",
       "        [ 2, 15,  2,  0],\n",
       "        ...,\n",
       "        [ 0,  9,  1,  0],\n",
       "        [ 0, 15,  1,  0],\n",
       "        [ 0, 18,  0,  2]],\n",
       "\n",
       "       [[11,  0,  0,  0],\n",
       "        [ 9,  0,  0,  0],\n",
       "        [16,  0,  0,  0],\n",
       "        ...,\n",
       "        [16,  2,  0,  0],\n",
       "        [10,  0,  0,  2],\n",
       "        [11,  0,  1,  0]],\n",
       "\n",
       "       [[10,  0,  1,  0],\n",
       "        [ 1, 12,  0,  0],\n",
       "        [17,  2,  0,  2],\n",
       "        ...,\n",
       "        [ 0, 14,  0,  0],\n",
       "        [17,  1,  0,  0],\n",
       "        [ 7,  0,  1,  0]],\n",
       "\n",
       "       ...,\n",
       "\n",
       "       [[10,  0,  0,  0],\n",
       "        [ 1, 17,  0,  1],\n",
       "        [15,  1,  0,  1],\n",
       "        ...,\n",
       "        [ 0, 12,  0,  0],\n",
       "        [13,  0,  0,  1],\n",
       "        [ 9,  0,  0,  0]],\n",
       "\n",
       "       [[15,  0,  0,  0],\n",
       "        [13,  0,  0,  0],\n",
       "        [17,  0,  1,  0],\n",
       "        ...,\n",
       "        [16,  1,  1,  1],\n",
       "        [10,  0,  0,  0],\n",
       "        [ 0, 20,  0,  0]],\n",
       "\n",
       "       [[ 9,  0,  2,  0],\n",
       "        [11,  0,  0,  0],\n",
       "        [13,  0,  0,  1],\n",
       "        ...,\n",
       "        [19,  0,  0,  1],\n",
       "        [10,  1,  0,  0],\n",
       "        [19,  1,  1,  0]]])"
      ]
     },
     "execution_count": 225,
     "metadata": {},
     "output_type": "execute_result"
    }
   ],
   "source": [
    "reads_per_haplotype_copy = np.copy(reads_per_haplotype)\n",
    "reads_per_haplotype[M == 1, 1] = reads_per_haplotype_copy[M == 1, 0]\n",
    "reads_per_haplotype[M == 1, 0] = reads_per_haplotype_copy[M == 1, 1]\n",
    "print(reads_per_haplotype.shape)\n",
    "reads_per_haplotype"
   ]
  },
  {
   "cell_type": "markdown",
   "id": "3989843f-4c87-4a4c-8cd6-eb4d96e1e9bf",
   "metadata": {},
   "source": [
    "We can see that with this operation, the allele counts for the first and second position of SNPs for which haplotypes have the derived allele called have been swapped. \n",
    "\n",
    "> ### Comments:\n",
    "\n",
    "1. There might be a better way to do this operation with numpy...\n",
    "\n",
    "Finally, I can merge every two haplotypes to simulate diploid individuals. So, instead of having 10 haplotypes, I'll have only 5 individuals with the information corresponding to the allele read counts for every site. "
   ]
  },
  {
   "cell_type": "code",
   "execution_count": 226,
   "id": "4f11968a-8269-400e-b143-a934f0e7e38e",
   "metadata": {},
   "outputs": [
    {
     "name": "stdout",
     "output_type": "stream",
     "text": [
      "(115, 5, 4)\n"
     ]
    },
    {
     "data": {
      "text/plain": [
       "array([[[ 0, 27,  0,  2],\n",
       "        [ 2, 26,  2,  0],\n",
       "        [18, 18,  0,  0],\n",
       "        [ 1, 25,  1,  0],\n",
       "        [ 0, 33,  1,  2]],\n",
       "\n",
       "       [[20,  0,  0,  0],\n",
       "        [30,  0,  1,  0],\n",
       "        [25, 18,  1,  0],\n",
       "        [25,  2,  1,  0],\n",
       "        [21,  0,  1,  2]],\n",
       "\n",
       "       [[11, 12,  1,  0],\n",
       "        [17, 11,  0,  2],\n",
       "        [19, 28,  1,  0],\n",
       "        [14, 14,  1,  1],\n",
       "        [24,  1,  1,  0]],\n",
       "\n",
       "       ...,\n",
       "\n",
       "       [[11, 17,  0,  1],\n",
       "        [25,  1,  0,  1],\n",
       "        [ 1, 34,  1,  3],\n",
       "        [14, 12,  0,  0],\n",
       "        [22,  0,  0,  1]],\n",
       "\n",
       "       [[28,  0,  0,  0],\n",
       "        [33,  0,  1,  0],\n",
       "        [32,  1,  2,  1],\n",
       "        [16, 17,  1,  1],\n",
       "        [10, 20,  0,  0]],\n",
       "\n",
       "       [[20,  0,  2,  0],\n",
       "        [13, 10,  0,  1],\n",
       "        [37,  0,  1,  1],\n",
       "        [31,  0,  0,  1],\n",
       "        [29,  2,  1,  0]]])"
      ]
     },
     "execution_count": 226,
     "metadata": {},
     "output_type": "execute_result"
    }
   ],
   "source": [
    "reads_per_genotype = reads_per_haplotype.reshape(reads_per_haplotype.shape[0], reads_per_haplotype.shape[1]//2, 2, reads_per_haplotype.shape[2]).sum(axis = 2)\n",
    "print(reads_per_genotype.shape)\n",
    "reads_per_genotype"
   ]
  },
  {
   "cell_type": "markdown",
   "id": "28c6e979-ff5e-4d07-b80b-1695e6099d9a",
   "metadata": {},
   "source": [
    "## 2.5. Compute GLs"
   ]
  },
  {
   "cell_type": "code",
   "execution_count": 227,
   "id": "b93a7eb5-008a-4588-b56f-2feeee90958d",
   "metadata": {},
   "outputs": [
    {
     "name": "stdout",
     "output_type": "stream",
     "text": [
      "0 0\n",
      "0 1\n",
      "0 2\n",
      "0 3\n",
      "1 1\n",
      "1 2\n",
      "1 3\n",
      "2 2\n",
      "2 3\n",
      "3 3\n",
      "(10, 115, 5)\n"
     ]
    },
    {
     "data": {
      "text/plain": [
       "array([[[118.7359923 , 114.74423433,  74.62148142, 106.50425191,\n",
       "         147.39640424],\n",
       "        [  1.02586589,   5.63314339,  79.07487904,  13.56536605,\n",
       "          13.36019287],\n",
       "        [ 53.79070555,  54.09846531, 119.7105649 ,  66.22761912,\n",
       "           9.41972819],\n",
       "        ...,\n",
       "        [ 74.26242836,   9.47102148, 155.63638666,  49.85024087,\n",
       "           5.22279704],\n",
       "        [  1.43621224,   5.78702328,  18.01876367,  78.61323939,\n",
       "          82.39982419],\n",
       "        [  9.21455501,  45.70460301,  10.08654102,   5.68443669,\n",
       "          13.77053922]],\n",
       "\n",
       "       [[ 27.81900489,  28.54605363,  26.17375436,  22.9976116 ,\n",
       "          36.27564185],\n",
       "        [ 14.54097464,  25.90580653,  35.35744005,  23.72466033,\n",
       "          27.55105706],\n",
       "        [ 20.8164654 ,  28.54605363,  38.26563498,  28.54605363,\n",
       "          22.27056287],\n",
       "        ...,\n",
       "        [ 24.45170906,  22.9976116 ,  41.82408388,  18.90326704,\n",
       "          20.08941667],\n",
       "        [ 20.3573645 ,  28.08695273,  36.27564185,  32.18129729,\n",
       "          21.81146197],\n",
       "        [ 22.72966377,  20.8164654 ,  35.08949222,  26.63285526,\n",
       "          26.63285526]],\n",
       "\n",
       "       [[118.7359923 , 109.36115355,  86.7850793 , 103.81271152,\n",
       "         144.02910841],\n",
       "        [ 14.54097464,  22.5385107 ,  92.60146916,  27.09195616,\n",
       "          24.18376123],\n",
       "        [ 57.85671953,  65.58630776, 129.18262239,  72.32089942,\n",
       "          22.27056287],\n",
       "        ...,\n",
       "        [ 81.69573817,  26.36490743, 152.94484627,  59.310817  ,\n",
       "          20.08941667],\n",
       "        [ 20.3573645 ,  24.7196569 ,  32.90834602,  86.05803057,\n",
       "          89.15737857],\n",
       "        [ 15.99507211,  54.4894237 ,  31.72219639,  26.63285526,\n",
       "          30.00015109]],\n",
       "\n",
       "       ...,\n",
       "\n",
       "       [[118.7359923 , 114.74423433, 147.39640424, 106.50425191,\n",
       "         143.35335297],\n",
       "        [ 81.88689124, 122.88163016, 176.10810947, 110.59859647,\n",
       "          94.22121823],\n",
       "        [ 94.22121823, 122.83033687, 192.48548772, 118.7872856 ,\n",
       "         102.40990735],\n",
       "        ...,\n",
       "        [118.7359923 , 110.54730318, 155.63638666, 106.45295862,\n",
       "          94.16992493],\n",
       "        [114.64164774, 135.16466385, 139.3103017 , 139.25900841,\n",
       "         122.83033687],\n",
       "        [ 81.98947783,  98.26426949, 155.63638666, 131.01902599,\n",
       "         126.97597472]],\n",
       "\n",
       "       [[112.00140064, 116.09574521, 147.39640424, 107.18000735,\n",
       "         137.29451675],\n",
       "        [ 81.88689124, 123.5573856 , 176.78386491, 111.27435191,\n",
       "          88.162382  ],\n",
       "        [ 94.89697366, 116.09574521, 193.16124316, 116.09574521,\n",
       "         103.08566279],\n",
       "        ...,\n",
       "        [115.36869647, 107.18000735, 146.21025461, 106.45295862,\n",
       "          90.8026291 ],\n",
       "        [114.64164774, 135.84041929, 137.29451675, 136.56746802,\n",
       "         122.83033687],\n",
       "        [ 83.34098871,  94.89697366, 152.94484627, 127.65173016,\n",
       "         127.65173016]],\n",
       "\n",
       "       [[110.64988977, 122.83033687, 147.39640424, 110.54730318,\n",
       "         139.3103017 ],\n",
       "        [ 81.88689124, 126.92468143, 180.15116074, 114.64164774,\n",
       "          90.17816696],\n",
       "        [ 98.26426949, 114.74423433, 196.52853899, 118.7872856 ,\n",
       "         106.45295862],\n",
       "        ...,\n",
       "        [114.69294104, 106.50425191, 147.55028412, 106.45295862,\n",
       "          90.12687366],\n",
       "        [114.64164774, 139.20771512, 143.35335297, 139.25900841,\n",
       "         122.83033687],\n",
       "        [ 90.07558037,  94.22121823, 155.63638666, 126.97597472,\n",
       "         131.01902599]]])"
      ]
     },
     "execution_count": 227,
     "metadata": {},
     "output_type": "execute_result"
    }
   ],
   "source": [
    "#AA, AC, AG, AT, CC, CG, CT, GG, GT, TT\n",
    "#00, 01, 02, 03, 11, 12, 13, 22, 23, 33\n",
    "GL = []\n",
    "for i in range(4):\n",
    "    for j in range(i, 4):\n",
    "        if i == j:\n",
    "            GL.append(-np.log(np.power(((1-e)/2 + (1-e)/2), reads_per_genotype[:, :, i]) * \n",
    "                             np.power(((e/3)/2 + (e/3)/2), reads_per_genotype.sum(axis = 2)-reads_per_genotype[:, :, i])))\n",
    "        else:\n",
    "            \n",
    "            GL.append(-np.log(np.power(((1-e)/2 + (e/3)/2), reads_per_genotype[:, :, i]+reads_per_genotype[:, :, j]) * \n",
    "                             np.power(((e/3)/2 + (e/3)/2), reads_per_genotype.sum(axis = 2)-reads_per_genotype[:, :, i]-reads_per_genotype[:, :, j])))\n",
    "\n",
    "GL = np.array(GL)\n",
    "print(GL.shape)\n",
    "GL"
   ]
  },
  {
   "cell_type": "markdown",
   "id": "83f30383-75e9-44ef-be35-ec1012d0cedb",
   "metadata": {},
   "source": [
    "## 3. All together and running time tests\n",
    "\n",
    "Here I just put all the steps together in a single function and run it for different simulated datasets with varying number of individuals to test how fast the function is. "
   ]
  },
  {
   "cell_type": "code",
   "execution_count": 236,
   "id": "ae410aba-8d16-4521-b6c2-6b929fd75ecb",
   "metadata": {},
   "outputs": [],
   "source": [
    "def GL(Rg):\n",
    "    GL = []\n",
    "    for i in range(4):\n",
    "        for j in range(i, 4):\n",
    "            if i == j:\n",
    "                GL.append(-np.log(np.power(((1-e)/2 + (1-e)/2), Rg[:, :, i]) * \n",
    "                                  np.power(((e/3)/2 + (e/3)/2), Rg.sum(axis = 2)-Rg[:, :, i])))\n",
    "            else:\n",
    "            \n",
    "                GL.append(-np.log(np.power(((1-e)/2 + (e/3)/2), Rg[:, :, i]+Rg[:, :, j]) * \n",
    "                                  np.power(((e/3)/2 + (e/3)/2), Rg.sum(axis = 2)-Rg[:, :, i]-Rg[:, :, j])))\n",
    "\n",
    "    return np.array(GL)\n",
    "\n",
    "def sim_GL(ts, mean_depth = 30, e = 0.05, seed = 1234):\n",
    "    rng = np.random.default_rng(seed)\n",
    "    M   = ts.genotype_matrix()\n",
    "    #1. Sample depths per haplotype\n",
    "    DPh = rng.normal(loc = mean_depth/2, scale = 0.05*mean_depth, size=M.shape[1])\n",
    "    #2. Sample depths per SNP per haplotype\n",
    "    DP  = rng.poisson(DPh, size=M.shape)\n",
    "    #3. Sample correct and error reads per SNP per haplotype (Rh)\n",
    "    Rh  = np.array([rng.multinomial(dp, [1-e, e/3, e/3, e/3]).tolist() for dp in DP.reshape(-1)]).reshape(DP.shape[0], DP.shape[1], 4)\n",
    "    #4. Reorganize anc and der alleles and join haplotypes to form individuals\n",
    "    Rh_copy = np.copy(Rh)\n",
    "    Rh[M == 1, 1] = Rh_copy[M == 1, 0]\n",
    "    Rh[M == 1, 0] = Rh_copy[M == 1, 1]\n",
    "    Rg  = Rh.reshape(Rh.shape[0], Rh.shape[1]//2, 2, Rh.shape[2]).sum(axis = 2)\n",
    "    #5. Call GL per SNP per individual\n",
    "    return GL(Rg)"
   ]
  },
  {
   "cell_type": "code",
   "execution_count": 244,
   "id": "8cae97f6-a524-42c5-9bff-db9825e8f386",
   "metadata": {},
   "outputs": [
    {
     "name": "stdout",
     "output_type": "stream",
     "text": [
      "5\n",
      "10\n",
      "50\n",
      "100\n",
      "500\n",
      "1000\n",
      "5000\n",
      "10000\n"
     ]
    }
   ],
   "source": [
    "ns = [5, 10, 50, 100, 500, 1000, 5000, 10000]\n",
    "xs = []\n",
    "ws = []\n",
    "for n in ns:\n",
    "    print(n)\n",
    "    ts = sim(seeds=(1, 2), n = n)\n",
    "    xs.append(ts.num_mutations)\n",
    "    start_time = time.time()\n",
    "    sim_GL(ts, mean_depth = 30, e = 0.05, seed = 1234)\n",
    "    ws.append(time.time()-start_time)"
   ]
  },
  {
   "cell_type": "code",
   "execution_count": 249,
   "id": "0cd74802-8d3a-4ce1-b86c-cab410fccb34",
   "metadata": {},
   "outputs": [
    {
     "data": {
      "text/html": [
       "<div>\n",
       "<style scoped>\n",
       "    .dataframe tbody tr th:only-of-type {\n",
       "        vertical-align: middle;\n",
       "    }\n",
       "\n",
       "    .dataframe tbody tr th {\n",
       "        vertical-align: top;\n",
       "    }\n",
       "\n",
       "    .dataframe thead th {\n",
       "        text-align: right;\n",
       "    }\n",
       "</style>\n",
       "<table border=\"1\" class=\"dataframe\">\n",
       "  <thead>\n",
       "    <tr style=\"text-align: right;\">\n",
       "      <th></th>\n",
       "      <th>n_ind</th>\n",
       "      <th>n_snp</th>\n",
       "      <th>time</th>\n",
       "    </tr>\n",
       "  </thead>\n",
       "  <tbody>\n",
       "    <tr>\n",
       "      <th>0</th>\n",
       "      <td>5</td>\n",
       "      <td>115</td>\n",
       "      <td>0.017091</td>\n",
       "    </tr>\n",
       "    <tr>\n",
       "      <th>1</th>\n",
       "      <td>10</td>\n",
       "      <td>174</td>\n",
       "      <td>0.047462</td>\n",
       "    </tr>\n",
       "    <tr>\n",
       "      <th>2</th>\n",
       "      <td>50</td>\n",
       "      <td>192</td>\n",
       "      <td>0.274266</td>\n",
       "    </tr>\n",
       "    <tr>\n",
       "      <th>3</th>\n",
       "      <td>100</td>\n",
       "      <td>303</td>\n",
       "      <td>0.912908</td>\n",
       "    </tr>\n",
       "    <tr>\n",
       "      <th>4</th>\n",
       "      <td>500</td>\n",
       "      <td>397</td>\n",
       "      <td>5.916098</td>\n",
       "    </tr>\n",
       "    <tr>\n",
       "      <th>5</th>\n",
       "      <td>1000</td>\n",
       "      <td>448</td>\n",
       "      <td>12.790627</td>\n",
       "    </tr>\n",
       "    <tr>\n",
       "      <th>6</th>\n",
       "      <td>5000</td>\n",
       "      <td>479</td>\n",
       "      <td>68.987837</td>\n",
       "    </tr>\n",
       "    <tr>\n",
       "      <th>7</th>\n",
       "      <td>10000</td>\n",
       "      <td>512</td>\n",
       "      <td>142.621006</td>\n",
       "    </tr>\n",
       "  </tbody>\n",
       "</table>\n",
       "</div>"
      ],
      "text/plain": [
       "   n_ind  n_snp        time\n",
       "0      5    115    0.017091\n",
       "1     10    174    0.047462\n",
       "2     50    192    0.274266\n",
       "3    100    303    0.912908\n",
       "4    500    397    5.916098\n",
       "5   1000    448   12.790627\n",
       "6   5000    479   68.987837\n",
       "7  10000    512  142.621006"
      ]
     },
     "execution_count": 249,
     "metadata": {},
     "output_type": "execute_result"
    }
   ],
   "source": [
    "df = pd.DataFrame({\"n_ind\" : ns, \"n_snp\" : xs, \"time\" :ws})\n",
    "df"
   ]
  },
  {
   "cell_type": "code",
   "execution_count": 269,
   "id": "e09833d5-5c4b-4f33-b63e-9277d2d308f7",
   "metadata": {},
   "outputs": [
    {
     "data": {
      "image/png": "[encoded data removed]"
     },
     "metadata": {},
     "output_type": "display_data"
    }
   ],
   "source": [
    "%%R -i df\n",
    "\n",
    "df %>% \n",
    "    ggplot(aes(x = n_ind*n_snp, y = time/60)) +\n",
    "    geom_point() +\n",
    "    geom_abline(intercept = 0, slope = 4.7e-7)"
   ]
  },
  {
   "cell_type": "markdown",
   "id": "6b345b0c-43d0-4a91-8e03-8ede19830672",
   "metadata": {},
   "source": [
    "So, we can se that to simulate GL for 10,000 individuals it takes less than 3 min. \n",
    "\n",
    "## 4. Further improvements\n",
    "\n",
    "1. Introduce potential errors to invariable sites\n",
    "2. Make possible a different reference sequence such that we do not need to assume that A = anc and C = der."
   ]
  }
 ],
 "metadata": {
  "kernelspec": {
   "display_name": "Python 3 (ipykernel)",
   "language": "python",
   "name": "python3"
  },
  "language_info": {
   "codemirror_mode": {
    "name": "ipython",
    "version": 3
   },
   "file_extension": ".py",
   "mimetype": "text/x-python",
   "name": "python",
   "nbconvert_exporter": "python",
   "pygments_lexer": "ipython3",
   "version": "3.9.7"
  }
 },
 "nbformat": 4,
 "nbformat_minor": 5
}
