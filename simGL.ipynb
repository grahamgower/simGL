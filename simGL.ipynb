{
 "cells": [
  {
   "cell_type": "markdown",
   "id": "40219d9f-47d9-4a91-a9da-63cf3d6ad19d",
   "metadata": {},
   "source": [
    "# Simulate genotype likelihoods (GL) from tree sequence data\n",
    "\n",
    "In this jupyternotebook I'll create a series of python functions in order to simulate GL from tree structure data or the genotype matrix derived from it by using `tskit` package. For that, I'm based on Graham Gower's gist and `angsd`'s `msToGlf` program. \n",
    "\n",
    "Graham's gist:\n",
    "\n",
    "https://gist.github.com/grahamgower/10779172a4a8368f993e154bf69dbe33\n",
    "\n",
    "# 0. Importing packages for python and R"
   ]
  },
  {
   "cell_type": "code",
   "execution_count": 1,
   "id": "a3c58dad-95fa-4fe1-8971-521842ea4182",
   "metadata": {},
   "outputs": [
    {
     "name": "stdout",
     "output_type": "stream",
     "text": [
      "* Project '/maps/projects/racimolab/people/qxz396/simGL' loaded. [renv 0.14.0]\n"
     ]
    }
   ],
   "source": [
    "import time\n",
    "import numpy as np\n",
    "import pandas as pd \n",
    "import msprime\n",
    "import tskit\n",
    "\n",
    "from rpy2.robjects import r, pandas2ri\n",
    "%load_ext rpy2.ipython\n",
    "pandas2ri.activate()"
   ]
  },
  {
   "cell_type": "code",
   "execution_count": 2,
   "id": "966418dd-9400-405c-8983-a4714ad51704",
   "metadata": {},
   "outputs": [
    {
     "name": "stderr",
     "output_type": "stream",
     "text": [
      "R[write to console]: ── Attaching packages ─────────────────────────────────────── tidyverse 1.3.1 ──\n",
      "\n",
      "R[write to console]: ✔ tibble  3.1.6     ✔ dplyr   1.0.7\n",
      "✔ tidyr   1.1.4     ✔ stringr 1.4.0\n",
      "✔ readr   2.1.1     ✔ forcats 0.5.1\n",
      "✔ purrr   0.3.4     \n",
      "\n",
      "R[write to console]: ── Conflicts ────────────────────────────────────────── tidyverse_conflicts() ──\n",
      "✖ dplyr::filter() masks stats::filter()\n",
      "✖ dplyr::lag()    masks stats::lag()\n",
      "\n"
     ]
    }
   ],
   "source": [
    "%%R\n",
    "\n",
    ".libPaths(c(\"/maps/projects/racimolab/people/qxz396/simGL/renv/library/R-4.1/x86_64-redhat-linux-gnu\", \"/tmp/Rtmp9Hi1cZ/renv-system-library\"))\n",
    "\n",
    "library(ggplot2)\n",
    "library(tidyverse)"
   ]
  },
  {
   "cell_type": "markdown",
   "id": "a919be89-a6df-490b-be27-bfbb8a5aa09d",
   "metadata": {},
   "source": [
    "# 1. Simulate a haplotype matrix\n",
    "\n",
    "From Graham's code, I use a function of his to simulate a tree"
   ]
  },
  {
   "cell_type": "code",
   "execution_count": 3,
   "id": "d2d9fdc3-ee40-4a1b-8995-c503bca50399",
   "metadata": {},
   "outputs": [
    {
     "data": {
      "text/html": [
       "\n",
       "            <div>\n",
       "              <style>\n",
       "                .tskit-table thead tr th {text-align: left;padding: 0.5em 0.5em;}\n",
       "                .tskit-table tbody tr td {padding: 0.5em 0.5em;}\n",
       "                .tskit-table tbody tr td:first-of-type {text-align: left;}\n",
       "                .tskit-details-label {vertical-align: top; padding-right:5px;}\n",
       "                .tskit-table-set {display: inline-flex;flex-wrap: wrap;margin: -12px 0 0 -12px;width: calc(100% + 12px);}\n",
       "                .tskit-table-set-table {margin: 12px 0 0 12px;}\n",
       "                details {display: inline-block;}\n",
       "                summary {cursor: pointer; outline: 0; display: list-item;}\n",
       "              </style>\n",
       "              <div class=\"tskit-table-set\">\n",
       "                <div class=\"tskit-table-set-table\">\n",
       "                  <table class=\"tskit-table\">\n",
       "                    <thead>\n",
       "                      <tr>\n",
       "                        <th style=\"padding:0;line-height:21px;\">\n",
       "                          <img style=\"height: 32px;display: inline-block;padding: 3px 5px 3px 0;\" src=\"https://raw.githubusercontent.com/tskit-dev/administrative/main/tskit_logo.svg\"/>\n",
       "                          <a target=\"_blank\" href=\"https://tskit.dev/tskit/docs/latest/python-api.html#the-treesequence-class\"> Tree Sequence </a>\n",
       "                        </th>\n",
       "                      </tr>\n",
       "                    </thead>\n",
       "                    <tbody>\n",
       "                      <tr><td>Trees</td><td>98</td></tr>\n",
       "                      <tr><td>Sequence Length</td><td>100000.0</td></tr>\n",
       "                      <tr><td>Time Units</td><td>generations</td></tr>\n",
       "                      <tr><td>Sample Nodes</td><td>10</td></tr>\n",
       "                      <tr><td>Total Size</td><td>22.8 KiB</td></tr>\n",
       "                      <tr>\n",
       "                        <td>Metadata</td><td style=\"text-align: left;\">No Metadata</td></tr>\n",
       "                    </tbody>\n",
       "                  </table>\n",
       "                </div>\n",
       "                <div class=\"tskit-table-set-table\">\n",
       "                  <table class=\"tskit-table\">\n",
       "                    <thead>\n",
       "                      <tr>\n",
       "                        <th style=\"line-height:21px;\">Table</th>\n",
       "                        <th>Rows</th>\n",
       "                        <th>Size</th>\n",
       "                        <th>Has Metadata</th>\n",
       "                      </tr>\n",
       "                    </thead>\n",
       "                    <tbody>\n",
       "                    \n",
       "                  <tr>\n",
       "                    <td>Edges</td>\n",
       "                      <td>313</td>\n",
       "                      <td>9.8 KiB</td>\n",
       "                      <td style=\"text-align: center;\">\n",
       "                        \n",
       "                      </td>\n",
       "                    </tr>\n",
       "                \n",
       "                  <tr>\n",
       "                    <td>Individuals</td>\n",
       "                      <td>5</td>\n",
       "                      <td>164 Bytes</td>\n",
       "                      <td style=\"text-align: center;\">\n",
       "                        \n",
       "                      </td>\n",
       "                    </tr>\n",
       "                \n",
       "                  <tr>\n",
       "                    <td>Migrations</td>\n",
       "                      <td>0</td>\n",
       "                      <td>8 Bytes</td>\n",
       "                      <td style=\"text-align: center;\">\n",
       "                        \n",
       "                      </td>\n",
       "                    </tr>\n",
       "                \n",
       "                  <tr>\n",
       "                    <td>Mutations</td>\n",
       "                      <td>115</td>\n",
       "                      <td>4.2 KiB</td>\n",
       "                      <td style=\"text-align: center;\">\n",
       "                        \n",
       "                      </td>\n",
       "                    </tr>\n",
       "                \n",
       "                  <tr>\n",
       "                    <td>Nodes</td>\n",
       "                      <td>88</td>\n",
       "                      <td>2.4 KiB</td>\n",
       "                      <td style=\"text-align: center;\">\n",
       "                        \n",
       "                      </td>\n",
       "                    </tr>\n",
       "                \n",
       "                  <tr>\n",
       "                    <td>Populations</td>\n",
       "                      <td>1</td>\n",
       "                      <td>224 Bytes</td>\n",
       "                      <td style=\"text-align: center;\">\n",
       "                        ✅\n",
       "                      </td>\n",
       "                    </tr>\n",
       "                \n",
       "                  <tr>\n",
       "                    <td>Provenances</td>\n",
       "                      <td>1</td>\n",
       "                      <td>722 Bytes</td>\n",
       "                      <td style=\"text-align: center;\">\n",
       "                        \n",
       "                      </td>\n",
       "                    </tr>\n",
       "                \n",
       "                  <tr>\n",
       "                    <td>Sites</td>\n",
       "                      <td>115</td>\n",
       "                      <td>2.8 KiB</td>\n",
       "                      <td style=\"text-align: center;\">\n",
       "                        \n",
       "                      </td>\n",
       "                    </tr>\n",
       "                \n",
       "                    </tbody>\n",
       "                  </table>\n",
       "                </div>\n",
       "              </div>\n",
       "            </div>\n",
       "            "
      ],
      "text/plain": [
       "<tskit.trees.TreeSequence at 0x7faf6dcc3700>"
      ]
     },
     "execution_count": 3,
     "metadata": {},
     "output_type": "execute_result"
    }
   ],
   "source": [
    "def sim(seeds=(1, 2), n = 5):\n",
    "    ts = msprime.sim_ancestry(\n",
    "        population_size=10_000,\n",
    "        samples=n,\n",
    "        sequence_length=100_000,\n",
    "        recombination_rate=1.25e-8,\n",
    "        random_seed=seeds[0],\n",
    "        record_provenance=False,\n",
    "    )\n",
    "    ts = msprime.sim_mutations(ts, rate=1.25e-8, random_seed=seeds[1])\n",
    "    return ts\n",
    "\n",
    "ts = sim(seeds=(1, 2))\n",
    "ts"
   ]
  },
  {
   "cell_type": "markdown",
   "id": "ddff22f8-60ec-46bd-a2c4-eeab22307eb9",
   "metadata": {},
   "source": [
    "Comments:\n",
    "\n",
    "1. Why is it necessary to give different seeds?\n",
    "\n",
    "From that, I extract the positions (reusing Graham's code):"
   ]
  },
  {
   "cell_type": "code",
   "execution_count": 4,
   "id": "6db8f3c3-8a19-4d52-ae31-8f0cc3eb6105",
   "metadata": {},
   "outputs": [
    {
     "name": "stdout",
     "output_type": "stream",
     "text": [
      "(115,)\n"
     ]
    },
    {
     "data": {
      "text/plain": [
       "array([  233.,   295.,  1688.,  2205.,  2515.,  2795.,  3357.,  4219.,\n",
       "        4272.,  4337.,  4691.,  4824.,  5616.,  6598.,  6633.,  6886.,\n",
       "        7378.,  7504.,  9248.,  9611., 10458., 11168., 11563., 12840.,\n",
       "       13258., 13476., 14359., 14469., 15237., 15606., 15713., 16003.,\n",
       "       16835., 17014., 17717., 18287., 18893., 19484., 25020., 25396.,\n",
       "       26548., 27485., 27544., 27797., 30140., 30240., 32132., 32434.,\n",
       "       32511., 32597., 32703., 32836., 32904., 32990., 34452., 35289.,\n",
       "       36367., 36682., 37246., 39165., 39567., 41466., 42729., 43633.,\n",
       "       43919., 45359., 45754., 46347., 49205., 49306., 49511., 49675.,\n",
       "       50698., 50728., 54036., 54442., 55979., 56654., 56876., 56993.,\n",
       "       57373., 60741., 60827., 61060., 61178., 64234., 67527., 67790.,\n",
       "       70380., 73119., 73319., 74320., 74773., 74871., 74921., 78772.,\n",
       "       79457., 79968., 81191., 82526., 82548., 83269., 83744., 84376.,\n",
       "       84650., 86147., 86182., 89241., 90613., 92725., 92941., 93545.,\n",
       "       94704., 94773., 96136.])"
      ]
     },
     "execution_count": 4,
     "metadata": {},
     "output_type": "execute_result"
    }
   ],
   "source": [
    "pos = np.array(ts.tables.sites.position)\n",
    "print(pos.shape)\n",
    "pos"
   ]
  },
  {
   "cell_type": "markdown",
   "id": "9cb45e79-703c-4274-8468-62741a20307c",
   "metadata": {},
   "source": [
    "and extracting the haplotype allele counts (0 = anc allele, 1 = der allele)"
   ]
  },
  {
   "cell_type": "code",
   "execution_count": 5,
   "id": "ec6c0f9c-57a7-4b2e-bda5-700084d4e668",
   "metadata": {},
   "outputs": [
    {
     "name": "stdout",
     "output_type": "stream",
     "text": [
      "(115, 10)\n"
     ]
    },
    {
     "data": {
      "text/plain": [
       "array([[1, 1, 1, ..., 1, 1, 1],\n",
       "       [0, 0, 0, ..., 0, 0, 0],\n",
       "       [0, 1, 0, ..., 1, 0, 0],\n",
       "       ...,\n",
       "       [0, 1, 0, ..., 1, 0, 0],\n",
       "       [0, 0, 0, ..., 0, 0, 1],\n",
       "       [0, 0, 0, ..., 0, 0, 0]], dtype=int8)"
      ]
     },
     "execution_count": 5,
     "metadata": {},
     "output_type": "execute_result"
    }
   ],
   "source": [
    "M = ts.genotype_matrix()\n",
    "print(M.shape)\n",
    "M"
   ]
  },
  {
   "cell_type": "markdown",
   "id": "e1e2c704-a2bd-4f18-a336-867573ebcb34",
   "metadata": {},
   "source": [
    "> ### Comments:\n",
    "1. I change dimensions from Graham's original code and make rows (first dimension) to correspond to SNPs and columns (second dimension) to correspond to haplotypes."
   ]
  },
  {
   "cell_type": "markdown",
   "id": "94880984-f999-48d0-af93-9d34ceaefd17",
   "metadata": {},
   "source": [
    "# 2. Simulate GL\n",
    "\n",
    "To simulate the GL from haplotypic allele counts, I'm going to use a similar approach than ANGSD `msToGlf` using the GL model from GATK (as shown in the picture abovell:\n",
    "\n",
    "1. sample the mean **coverage per haplotype** (assuming that coverage is **distributed normally** among individuals with a std = 0.05\\*mean  from the mean) \n",
    "2. sample **coverage per site per haplotype** (assuming **poison distribution** with lambda equal to the haplotype coverage)\n",
    "3. sample as many **alleles reads** as depth per site per haplotype from a **multinomial distribution** with probabilities (1-e, e/3, e/3, e/3), assuming that the first position in the array corresponds to calling the correctly the allele and the rest correspond to calling an error.\n",
    "4. assuming that index 0 = A = anc, index 1 = C = der, index 2 = G, index 3 = T, I'll **organize the allele read counts** in each array drawn from the multinomial distribution to correspond to the simulated allele counts per haplotype. Then, I'll **join every two haplotypes** to get the allele read counts per diploid individual.\n",
    "5. **Compute GLs**\n",
    "\n",
    "\n",
    "![Gl](GL.png)\n",
    "\n",
    "source: \n",
    "1. http://www.popgen.dk/angsd/index.php/Genotype_Likelihoods\n",
    "2. https://bmcbioinformatics.biomedcentral.com/track/pdf/10.1186/1471-2105-14-289.pdf"
   ]
  },
  {
   "cell_type": "markdown",
   "id": "ac099cee-05c2-4285-a08d-dab3721429e3",
   "metadata": {},
   "source": [
    "## 2.1. Coverage per haplotype"
   ]
  },
  {
   "cell_type": "code",
   "execution_count": 6,
   "id": "a0f6c3da-1ca1-46f5-b714-9d3ce527ae3b",
   "metadata": {},
   "outputs": [
    {
     "name": "stdout",
     "output_type": "stream",
     "text": [
      "(10,)\n"
     ]
    },
    {
     "data": {
      "text/plain": [
       "array([12.59424479, 15.09614987, 16.11133694, 15.22892879, 16.29561584,\n",
       "       19.36964883, 12.78176496, 16.41820946, 12.50079681, 15.51561687])"
      ]
     },
     "execution_count": 6,
     "metadata": {},
     "output_type": "execute_result"
    }
   ],
   "source": [
    "rng = np.random.default_rng(1234) #Why setting the seed like this?\n",
    "mean_depth = 30\n",
    "#mean_depths = rng.exponential(mean_depth, size=A.shape[1]) #Why exponential?\n",
    "mean_depths = rng.normal(loc = mean_depth/2, scale = 0.05*mean_depth, size=M.shape[1])\n",
    "print(mean_depths.shape)\n",
    "mean_depths"
   ]
  },
  {
   "cell_type": "markdown",
   "id": "05306166-03cb-41ff-8db3-1b6ca28a8ab1",
   "metadata": {},
   "source": [
    "> ### Comments:\n",
    "1. Why is the coverage per individual sampled from an exponential distribution? I usually observe this to be normally distributed. I would be also nice to be able to define beforehand the coverage per sample.\n",
    "2. Why setting the coverage like that?"
   ]
  },
  {
   "cell_type": "markdown",
   "id": "d886144b-7886-451d-9b54-0c9464937ea6",
   "metadata": {},
   "source": [
    "## 2.2. Coverage per SNP per haplotype"
   ]
  },
  {
   "cell_type": "code",
   "execution_count": 7,
   "id": "0b321b43-724f-4e47-be40-abdd5f6d1e33",
   "metadata": {},
   "outputs": [
    {
     "name": "stdout",
     "output_type": "stream",
     "text": [
      "(115, 10)\n"
     ]
    },
    {
     "data": {
      "text/plain": [
       "array([[12, 17, 19, 11, 18, 18, 17, 10, 16, 20],\n",
       "       [11,  9, 16, 15, 25, 19, 10, 18, 12, 12],\n",
       "       [11, 13, 21,  9, 18, 30, 16, 14, 18,  8],\n",
       "       [12, 13, 25, 13, 14, 19, 15, 18,  9, 14],\n",
       "       [15, 17, 17,  6, 19, 22, 18, 10,  8, 15],\n",
       "       [ 6, 15, 13, 21, 24, 10,  8, 23, 10, 15],\n",
       "       [13, 26, 19, 15, 21, 12, 13, 16, 14, 12],\n",
       "       [ 9, 23, 19,  7, 17, 22, 16, 13, 18, 18],\n",
       "       [11, 20, 14,  6, 14, 16, 14, 21,  8, 15],\n",
       "       [11, 15, 17, 15,  7, 18, 13, 18, 16, 12]])"
      ]
     },
     "execution_count": 7,
     "metadata": {},
     "output_type": "execute_result"
    }
   ],
   "source": [
    "DP = rng.poisson(mean_depths, size=M.shape)\n",
    "print(DP.shape)\n",
    "DP[:10, :]"
   ]
  },
  {
   "cell_type": "markdown",
   "id": "0ff6f91d-6fbf-4fed-addf-e8f92c20dec2",
   "metadata": {},
   "source": [
    "> ### Comments:\n",
    "\n",
    "1. I don't think reshaping is necessary\n",
    "\n",
    "## 2.3. Sampling allele reads for each haplotype and site with and without errors\n",
    "\n",
    "Base pairs are coded in the following way:\n",
    "\n",
    "1. 0 = correctly called allele\n",
    "2. 1 = 2 = 3 = error called\n",
    "\n",
    "If we check the coverage per site per haplotype..."
   ]
  },
  {
   "cell_type": "code",
   "execution_count": 8,
   "id": "8daad3e5-ff19-4439-b687-b8ce48ee8894",
   "metadata": {},
   "outputs": [
    {
     "name": "stdout",
     "output_type": "stream",
     "text": [
      "(115, 10)\n"
     ]
    },
    {
     "data": {
      "text/plain": [
       "array([[12, 17, 19, ..., 10, 16, 20],\n",
       "       [11,  9, 16, ..., 18, 12, 12],\n",
       "       [11, 13, 21, ..., 14, 18,  8],\n",
       "       ...,\n",
       "       [10, 19, 17, ..., 12, 14,  9],\n",
       "       [15, 13, 18, ..., 19, 10, 20],\n",
       "       [11, 11, 14, ..., 20, 11, 21]])"
      ]
     },
     "execution_count": 8,
     "metadata": {},
     "output_type": "execute_result"
    }
   ],
   "source": [
    "print(DP.shape)\n",
    "DP"
   ]
  },
  {
   "cell_type": "markdown",
   "id": "992223aa-36d4-4b37-8704-4efe4ff71b0d",
   "metadata": {},
   "source": [
    "This means that for the first haplotype and first position there should be 12 alleles sampled in total. I'll do that by sampling from a multinomial distribution with probabilities (1-e, e/3, e/3, e/3)."
   ]
  },
  {
   "cell_type": "code",
   "execution_count": 9,
   "id": "a98d1479-ebf4-4a51-9cf8-79aeaca358ce",
   "metadata": {},
   "outputs": [
    {
     "name": "stdout",
     "output_type": "stream",
     "text": [
      "(115, 10, 4)\n"
     ]
    },
    {
     "data": {
      "text/plain": [
       "array([[[12,  0,  0,  0],\n",
       "        [17,  0,  0,  0],\n",
       "        [18,  1,  0,  0],\n",
       "        ...,\n",
       "        [10,  0,  0,  0],\n",
       "        [15,  1,  0,  0],\n",
       "        [19,  1,  0,  0]],\n",
       "\n",
       "       [[11,  0,  0,  0],\n",
       "        [ 9,  0,  0,  0],\n",
       "        [15,  0,  1,  0],\n",
       "        ...,\n",
       "        [16,  0,  1,  1],\n",
       "        [11,  1,  0,  0],\n",
       "        [12,  0,  0,  0]],\n",
       "\n",
       "       [[ 9,  1,  1,  0],\n",
       "        [11,  1,  1,  0],\n",
       "        [20,  1,  0,  0],\n",
       "        ...,\n",
       "        [13,  1,  0,  0],\n",
       "        [18,  0,  0,  0],\n",
       "        [ 8,  0,  0,  0]],\n",
       "\n",
       "       ...,\n",
       "\n",
       "       [[ 9,  0,  0,  1],\n",
       "        [18,  1,  0,  0],\n",
       "        [17,  0,  0,  0],\n",
       "        ...,\n",
       "        [12,  0,  0,  0],\n",
       "        [14,  0,  0,  0],\n",
       "        [ 9,  0,  0,  0]],\n",
       "\n",
       "       [[14,  0,  0,  1],\n",
       "        [11,  0,  2,  0],\n",
       "        [17,  0,  1,  0],\n",
       "        ...,\n",
       "        [19,  0,  0,  0],\n",
       "        [ 9,  1,  0,  0],\n",
       "        [20,  0,  0,  0]],\n",
       "\n",
       "       [[10,  1,  0,  0],\n",
       "        [10,  0,  0,  1],\n",
       "        [14,  0,  0,  0],\n",
       "        ...,\n",
       "        [18,  0,  0,  2],\n",
       "        [10,  0,  0,  1],\n",
       "        [21,  0,  0,  0]]])"
      ]
     },
     "execution_count": 9,
     "metadata": {},
     "output_type": "execute_result"
    }
   ],
   "source": [
    "e = 0.05\n",
    "reads_per_haplotype = np.array([rng.multinomial(dp, [1-e, e/3, e/3, e/3]).tolist() for dp in DP.reshape(-1)]).reshape(DP.shape[0], DP.shape[1], 4)\n",
    "print(reads_per_haplotype.shape)\n",
    "reads_per_haplotype"
   ]
  },
  {
   "cell_type": "markdown",
   "id": "5cf1e9b7-d302-40cd-bacb-d8c292a68c10",
   "metadata": {},
   "source": [
    "We can see that the first line summed up is the same as the first position in the depth array (DP) shown before. Rows that have counts in places other than the first position, correspond to errors. \n",
    "\n",
    "## 2.4. Organizing allele reads for each haplotype corresponding to the allele counts simulated\n",
    "\n",
    "In this section I'll change the counts of the first and second positions of every array depending on the allele counts `M` depending on a given individual and site having the derived or ancestral allele such that in a given array:\n",
    "\n",
    "1. index 0 = A = ancestral allele\n",
    "2. index 1 = C = derived allele\n",
    "3. index 2 = G\n",
    "4. index 3 = T\n",
    "\n",
    "So, if we check the M matrix:"
   ]
  },
  {
   "cell_type": "code",
   "execution_count": 10,
   "id": "da13884f-b2f3-4360-aaef-e90664ea7e83",
   "metadata": {},
   "outputs": [
    {
     "data": {
      "text/plain": [
       "array([[1, 1, 1, ..., 1, 1, 1],\n",
       "       [0, 0, 0, ..., 0, 0, 0],\n",
       "       [0, 1, 0, ..., 1, 0, 0],\n",
       "       ...,\n",
       "       [0, 1, 0, ..., 1, 0, 0],\n",
       "       [0, 0, 0, ..., 0, 0, 1],\n",
       "       [0, 0, 0, ..., 0, 0, 0]], dtype=int8)"
      ]
     },
     "execution_count": 10,
     "metadata": {},
     "output_type": "execute_result"
    }
   ],
   "source": [
    "M"
   ]
  },
  {
   "cell_type": "markdown",
   "id": "702885fd-e711-47c3-8104-67f34475294a",
   "metadata": {},
   "source": [
    "We can see that the first haplotype has a derived allele in the first SNP. Thus, we must swap the allele read counts between the first and second position of the first array in `reads_per_haplotype`."
   ]
  },
  {
   "cell_type": "code",
   "execution_count": 11,
   "id": "c792defe-4314-4878-8cff-be18bcfdd77c",
   "metadata": {},
   "outputs": [
    {
     "name": "stdout",
     "output_type": "stream",
     "text": [
      "(115, 10, 4)\n"
     ]
    },
    {
     "data": {
      "text/plain": [
       "array([[[ 0, 12,  0,  0],\n",
       "        [ 0, 17,  0,  0],\n",
       "        [ 1, 18,  0,  0],\n",
       "        ...,\n",
       "        [ 0, 10,  0,  0],\n",
       "        [ 1, 15,  0,  0],\n",
       "        [ 1, 19,  0,  0]],\n",
       "\n",
       "       [[11,  0,  0,  0],\n",
       "        [ 9,  0,  0,  0],\n",
       "        [15,  0,  1,  0],\n",
       "        ...,\n",
       "        [16,  0,  1,  1],\n",
       "        [11,  1,  0,  0],\n",
       "        [12,  0,  0,  0]],\n",
       "\n",
       "       [[ 9,  1,  1,  0],\n",
       "        [ 1, 11,  1,  0],\n",
       "        [20,  1,  0,  0],\n",
       "        ...,\n",
       "        [ 1, 13,  0,  0],\n",
       "        [18,  0,  0,  0],\n",
       "        [ 8,  0,  0,  0]],\n",
       "\n",
       "       ...,\n",
       "\n",
       "       [[ 9,  0,  0,  1],\n",
       "        [ 1, 18,  0,  0],\n",
       "        [17,  0,  0,  0],\n",
       "        ...,\n",
       "        [ 0, 12,  0,  0],\n",
       "        [14,  0,  0,  0],\n",
       "        [ 9,  0,  0,  0]],\n",
       "\n",
       "       [[14,  0,  0,  1],\n",
       "        [11,  0,  2,  0],\n",
       "        [17,  0,  1,  0],\n",
       "        ...,\n",
       "        [19,  0,  0,  0],\n",
       "        [ 9,  1,  0,  0],\n",
       "        [ 0, 20,  0,  0]],\n",
       "\n",
       "       [[10,  1,  0,  0],\n",
       "        [10,  0,  0,  1],\n",
       "        [14,  0,  0,  0],\n",
       "        ...,\n",
       "        [18,  0,  0,  2],\n",
       "        [10,  0,  0,  1],\n",
       "        [21,  0,  0,  0]]])"
      ]
     },
     "execution_count": 11,
     "metadata": {},
     "output_type": "execute_result"
    }
   ],
   "source": [
    "reads_per_haplotype_copy = np.copy(reads_per_haplotype)\n",
    "reads_per_haplotype[M == 1, 1] = reads_per_haplotype_copy[M == 1, 0]\n",
    "reads_per_haplotype[M == 1, 0] = reads_per_haplotype_copy[M == 1, 1]\n",
    "print(reads_per_haplotype.shape)\n",
    "reads_per_haplotype"
   ]
  },
  {
   "cell_type": "markdown",
   "id": "3989843f-4c87-4a4c-8cd6-eb4d96e1e9bf",
   "metadata": {},
   "source": [
    "We can see that with this operation, the allele counts for the first and second position of SNPs for which haplotypes have the derived allele called have been swapped. \n",
    "\n",
    "> ### Comments:\n",
    "\n",
    "1. There might be a better way to do this operation with numpy...\n",
    "\n",
    "Finally, I can merge every two haplotypes to simulate diploid individuals. So, instead of having 10 haplotypes, I'll have only 5 individuals with the information corresponding to the allele read counts for every site. "
   ]
  },
  {
   "cell_type": "code",
   "execution_count": 12,
   "id": "4f11968a-8269-400e-b143-a934f0e7e38e",
   "metadata": {},
   "outputs": [
    {
     "name": "stdout",
     "output_type": "stream",
     "text": [
      "(115, 5, 4)\n"
     ]
    },
    {
     "data": {
      "text/plain": [
       "array([[[ 0, 29,  0,  0],\n",
       "        [ 1, 29,  0,  0],\n",
       "        [18, 18,  0,  0],\n",
       "        [ 0, 27,  0,  0],\n",
       "        [ 2, 34,  0,  0]],\n",
       "\n",
       "       [[20,  0,  0,  0],\n",
       "        [30,  0,  1,  0],\n",
       "        [23, 20,  1,  0],\n",
       "        [25,  0,  2,  1],\n",
       "        [23,  1,  0,  0]],\n",
       "\n",
       "       [[10, 12,  2,  0],\n",
       "        [20, 10,  0,  0],\n",
       "        [17, 27,  1,  3],\n",
       "        [16, 13,  1,  0],\n",
       "        [26,  0,  0,  0]],\n",
       "\n",
       "       ...,\n",
       "\n",
       "       [[10, 18,  0,  1],\n",
       "        [25,  2,  0,  0],\n",
       "        [ 0, 37,  1,  1],\n",
       "        [14, 12,  0,  0],\n",
       "        [23,  0,  0,  0]],\n",
       "\n",
       "       [[25,  0,  2,  1],\n",
       "        [33,  0,  1,  0],\n",
       "        [35,  1,  0,  0],\n",
       "        [19, 15,  1,  0],\n",
       "        [ 9, 21,  0,  0]],\n",
       "\n",
       "       [[20,  1,  0,  1],\n",
       "        [14, 10,  0,  0],\n",
       "        [38,  0,  1,  0],\n",
       "        [29,  0,  1,  2],\n",
       "        [31,  0,  0,  1]]])"
      ]
     },
     "execution_count": 12,
     "metadata": {},
     "output_type": "execute_result"
    }
   ],
   "source": [
    "reads_per_genotype = reads_per_haplotype.reshape(reads_per_haplotype.shape[0], reads_per_haplotype.shape[1]//2, 2, reads_per_haplotype.shape[2]).sum(axis = 2)\n",
    "print(reads_per_genotype.shape)\n",
    "reads_per_genotype"
   ]
  },
  {
   "cell_type": "markdown",
   "id": "28c6e979-ff5e-4d07-b80b-1695e6099d9a",
   "metadata": {},
   "source": [
    "## 2.5. Compute GLs"
   ]
  },
  {
   "cell_type": "code",
   "execution_count": 13,
   "id": "b93a7eb5-008a-4588-b56f-2feeee90958d",
   "metadata": {},
   "outputs": [
    {
     "name": "stdout",
     "output_type": "stream",
     "text": [
      "(10, 115, 5)\n"
     ]
    },
    {
     "data": {
      "text/plain": [
       "array([[[117.24848677, 113.2054355 ,  48.44772706, 109.16238423,\n",
       "         129.37764057],\n",
       "        [  0.        ,   0.        ,  51.80354153,   0.        ,\n",
       "           0.        ],\n",
       "        [ 33.64999558,  20.15784954,  79.42914497,  32.96275878,\n",
       "           0.        ],\n",
       "        ...,\n",
       "        [ 53.85377056,   0.        , 149.59289691,  30.94697383,\n",
       "           0.        ],\n",
       "        [  0.        ,   0.        ,   0.        ,  37.67008413,\n",
       "          64.63141349],\n",
       "        [  0.        ,  24.21238217,   0.        ,   0.        ,\n",
       "           0.        ]],\n",
       "\n",
       "       [[ 19.5969077 ,  16.22961187,   0.        ,  18.24539682,\n",
       "          16.24109323],\n",
       "        [ 13.51510876,  20.27266314,   0.        ,  16.89388595,\n",
       "          12.17507924],\n",
       "        [  0.        ,   0.        ,   0.        ,   0.        ,\n",
       "          17.56964138],\n",
       "        ...,\n",
       "        [  0.        ,  10.15929429,  25.0029512 ,   0.        ,\n",
       "          15.54237507],\n",
       "        [ 16.89388595,  22.29992945,  20.28414449,   0.        ,\n",
       "           0.        ],\n",
       "        [ 10.14781293,   0.        ,  25.67870664,  19.5969077 ,\n",
       "          20.94841857]],\n",
       "\n",
       "       [[117.24848677, 113.88119094,  60.61132494, 109.16238423,\n",
       "         130.72915145],\n",
       "        [ 13.51510876,  16.90536731,  63.97862077,  10.15929429,\n",
       "          15.54237507],\n",
       "        [ 33.6729583 ,  33.6729583 ,  87.54969158,  40.40754996,\n",
       "          17.56964138],\n",
       "        ...,\n",
       "        [ 60.61132494,  16.89388595, 146.22560108,  40.40754996,\n",
       "          15.54237507],\n",
       "        [ 10.15929429,  18.93263362,  23.65144032,  47.14214162,\n",
       "          70.71321243],\n",
       "        [ 13.51510876,  33.6729583 ,  22.31141081,  16.22961187,\n",
       "          20.94841857]],\n",
       "\n",
       "       ...,\n",
       "\n",
       "       [[117.24848677, 117.24848677, 121.22264988, 109.16238423,\n",
       "         137.46374311],\n",
       "        [ 80.86102536, 117.24848677, 140.75066942,  92.99017916,\n",
       "          92.99017916],\n",
       "        [ 65.99440572, 101.0188749 , 144.11796525,  93.6085278 ,\n",
       "         105.11933296],\n",
       "        ...,\n",
       "        [ 94.28428324, 101.0762817 , 145.54984564,  87.54969158,\n",
       "          92.99017916],\n",
       "        [ 92.99017916, 129.37764057, 141.50679437, 110.44500695,\n",
       "         101.0188749 ],\n",
       "        [ 80.86102536,  80.81509992, 149.59289691, 113.2054355 ,\n",
       "         125.3345893 ]],\n",
       "\n",
       "       [[117.24848677, 117.24848677, 121.22264988, 109.16238423,\n",
       "         137.46374311],\n",
       "        [ 80.86102536, 117.92424221, 141.42642486,  90.97439421,\n",
       "          92.99017916],\n",
       "        [ 67.3459166 , 101.0188749 , 134.6918332 ,  94.28428324,\n",
       "         105.11933296],\n",
       "        ...,\n",
       "        [ 90.91698741, 101.0762817 , 142.85830525,  87.54969158,\n",
       "          92.99017916],\n",
       "        [ 90.97439421, 130.05339601, 141.50679437, 111.12076239,\n",
       "         101.0188749 ],\n",
       "        [ 77.49372953,  80.81509992, 150.26865235, 107.14659928,\n",
       "         121.96729347]],\n",
       "\n",
       "       [[117.24848677, 117.24848677, 121.22264988, 109.16238423,\n",
       "         137.46374311],\n",
       "        [ 80.86102536, 121.29153804, 144.79372069,  97.03323043,\n",
       "          92.99017916],\n",
       "        [ 74.08050826, 101.0188749 , 136.03186272,  97.65157907,\n",
       "         105.11933296],\n",
       "        ...,\n",
       "        [ 90.24123197, 101.0762817 , 145.54984564,  87.54969158,\n",
       "          92.99017916],\n",
       "        [ 97.03323043, 133.42069184, 141.50679437, 114.48805822,\n",
       "         101.0188749 ],\n",
       "        [ 76.81797409,  80.81509992, 153.63594818, 109.16238423,\n",
       "         121.29153804]]])"
      ]
     },
     "execution_count": 13,
     "metadata": {},
     "output_type": "execute_result"
    }
   ],
   "source": [
    "#AA, AC, AG, AT, CC, CG, CT, GG, GT, TT\n",
    "#00, 01, 02, 03, 11, 12, 13, 22, 23, 33\n",
    "GL = []\n",
    "for i in range(4):\n",
    "    for j in range(i, 4):\n",
    "        if i == j:\n",
    "            GL.append(-np.log(np.power(((1-e)/2 + (1-e)/2), reads_per_genotype[:, :, i]) * \n",
    "                             np.power(((e/3)/2 + (e/3)/2), reads_per_genotype.sum(axis = 2)-reads_per_genotype[:, :, i])))\n",
    "        else:\n",
    "            \n",
    "            GL.append(-np.log(np.power(((1-e)/2 + (e/3)/2), reads_per_genotype[:, :, i]+reads_per_genotype[:, :, j]) * \n",
    "                             np.power(((e/3)/2 + (e/3)/2), reads_per_genotype.sum(axis = 2)-reads_per_genotype[:, :, i]-reads_per_genotype[:, :, j])))\n",
    "\n",
    "GL = np.array(GL)\n",
    "GL = GL - GL.min(axis = 0)\n",
    "print(GL.shape)\n",
    "GL"
   ]
  },
  {
   "cell_type": "markdown",
   "id": "83f30383-75e9-44ef-be35-ec1012d0cedb",
   "metadata": {},
   "source": [
    "## 3. All together and running time tests\n",
    "\n",
    "Here I just put all the steps together in a single function and run it for different simulated datasets with varying number of individuals to test how fast the function is. "
   ]
  },
  {
   "cell_type": "code",
   "execution_count": 14,
   "id": "ae410aba-8d16-4521-b6c2-6b929fd75ecb",
   "metadata": {},
   "outputs": [],
   "source": [
    "def samples_order(ts):\n",
    "    so = []\n",
    "    for ind in ts.individuals():\n",
    "        [so.append(nod) for nod in ind.nodes]\n",
    "    return np.array(so)\n",
    "\n",
    "def extract_genotype_matrix(data):\n",
    "    if type(data) == np.ndarray and len(data.shape) == 2:\n",
    "        return data\n",
    "    elif type(data) == tskit.trees.TreeSequence:\n",
    "        return data.genotype_matrix()[:, samples_order(data)]\n",
    "    else:\n",
    "        sys.exit(\"Incorrect data format\")\n",
    "\n",
    "def depth_per_haplotype(rng, mean_depth, std_depth, n_ind):\n",
    "    if type(mean_depth) == int or type(mean_depth) == float:\n",
    "        if type(std_depth) == int or type(std_depth) == float:\n",
    "            DPh = []\n",
    "            while len(DPh) < n_ind:\n",
    "                dp = rng.normal(loc = mean_depth/2, scale = std_depth, size=1)[0]\n",
    "                if dp > 0:\n",
    "                    DPh.append(dp)\n",
    "            return DPh\n",
    "    elif type(mean_depth) == np.ndarray and len(mean_depth.shape) == 1 and mean_depth.shape[0] == n_ind and (mean_depth > 0).sum() == n_ind:\n",
    "        return mean_depth\n",
    "    else:\n",
    "        sys.exit(\"Incorrect mean_depth format\")\n",
    "        \n",
    "        \n",
    "def sim_allelereadcounts(data, mean_depth = 30., std_depth = 5., e = 0.05, seed = 1234):\n",
    "    '''\n",
    "    Def:\n",
    "        Function to simulate read counts for alleles given a tree sequence data from diploid simulated individuals (2samples = ind) \n",
    "        or genotype matrix and extra information for the haplotype samples.\n",
    "    Input:\n",
    "        - data       : Two inputs are possible:\n",
    "                            + Tree sequence data from tskit package from which the genotype matrix is going to be extracted\n",
    "                            + Genotype matrix in numpy format with shape (SNPs, samples). It is assumed that the array is sorted\n",
    "                              according to a individual order such that consecutive columns (e.g., data[:, 0] and data[:, 1]) \n",
    "                              correspond to the same individual.\n",
    "        - mean_depth : Two inputs are possible:\n",
    "                            + float > 0 with the mean depth per sample. The mean depth for every sample haplotype \n",
    "                              is going to be sampled from a normal distribution with mean = mean_depth and std = std_depth.\n",
    "                              Consider that since this script assumes that individuals are diploid, if the user intends to \n",
    "                              simulate a coverage of 30X per individual, the argument should be set to 15.\n",
    "                            + numpy array with shape (samples, ) with the mean depth per haplotype sample. All values must \n",
    "                              be > 0. The order of the values is going to be associated to the list of individual's samples\n",
    "                              provided by ts.individuals() (in case a tree sequence data is provided) or the order of the\n",
    "                              samples in the genotype matrix (if a genotype matrix is provided in the input data).\n",
    "                              If the intended coverage per site for a given individual is 30, since the coverage is \n",
    "                              given per haplotype, it should be indicated consecutively and half the individual coverage (15 \n",
    "                              and 15 or 14 and 16).\n",
    "        - std_depth  : float that corresponds to the standard deviation of the normal distribution from which coverages are\n",
    "                       going to be sampled. This value will only be used if a float value is inputet for mean_depth. \n",
    "        - e          : float between 0 and 1 representing the error rate per base per read per site. This probability is\n",
    "                       assumed to be constant.\n",
    "        - seed       : integer from which the numpy rng will be drawn. \n",
    "    Output:\n",
    "        - Rg         : numpy array with dimentions (SNP, individual, alleles) so that each value corresponds to the number of\n",
    "                       reads with a particular allele for a SNP position and a diploid individual. The index of the 3rd dimention\n",
    "                       corresponds to 1 : A and ancestral allele, 2 : C and derived allele, 3 : G, 4: T. \n",
    "    '''\n",
    "    rng = np.random.default_rng(seed)\n",
    "    M   = extract_genotype_matrix(data)\n",
    "    #1. Depths per haplotype\n",
    "    DPh = depth_per_haplotype(rng, mean_depth, std_depth, M.shape[1])\n",
    "    #2. Sample depths per SNP per haplotype\n",
    "    DP  = rng.poisson(DPh, size=M.shape)\n",
    "    #3. Sample correct and error reads per SNP per haplotype (Rh)\n",
    "    Rh  = np.array([rng.multinomial(dp, [1-e, e/3, e/3, e/3]).tolist() for dp in DP.reshape(-1)])\n",
    "    Rh  = Rh.reshape(DP.shape[0], DP.shape[1], 4)\n",
    "    #4. Reorganize anc and der alleles and join haplotypes to form individuals\n",
    "    Rh_copy = np.copy(Rh)\n",
    "    Rh[M == 1, 1] = Rh_copy[M == 1, 0]\n",
    "    Rh[M == 1, 0] = Rh_copy[M == 1, 1]\n",
    "    return Rh.reshape(Rh.shape[0], Rh.shape[1]//2, 2, Rh.shape[2]).sum(axis = 2)\n",
    "\n",
    "    \n",
    "def allelereadcounts_to_GL(Rg, e):\n",
    "    GL = []\n",
    "    for i in range(4):\n",
    "        for j in range(i, 4):\n",
    "            if i == j:\n",
    "                GL.append(-np.log(np.power(((1-e)/2 + (1-e)/2), Rg[:, :, i]) * \n",
    "                                  np.power(((e/3)/2 + (e/3)/2), Rg.sum(axis = 2)-Rg[:, :, i])))\n",
    "            else:\n",
    "            \n",
    "                GL.append(-np.log(np.power(((1-e)/2 + (e/3)/2), Rg[:, :, i]+Rg[:, :, j]) * \n",
    "                                  np.power(((e/3)/2 + (e/3)/2), Rg.sum(axis = 2)-Rg[:, :, i]-Rg[:, :, j])))\n",
    "\n",
    "    GL = np.array(GL)\n",
    "    return GL - GL.min(axis = 0)\n",
    "\n"
   ]
  },
  {
   "cell_type": "code",
   "execution_count": 15,
   "id": "f35a7483-a948-4e19-8de8-025e17ea4310",
   "metadata": {},
   "outputs": [
    {
     "name": "stdout",
     "output_type": "stream",
     "text": [
      "(115, 5, 4)\n",
      "[[[ 1 11  0  1]\n",
      "  [ 0 12  1  2]\n",
      "  [15 12  1  1]\n",
      "  [ 0 12  0  0]\n",
      "  [ 0 13  1  0]]\n",
      "\n",
      " [[ 7  0  0  0]\n",
      "  [15  0  0  0]\n",
      "  [ 9 15  0  0]\n",
      "  [13  0  0  0]\n",
      "  [10  1  0  1]]\n",
      "\n",
      " [[ 4  2  1  1]\n",
      "  [12  6  0  0]\n",
      "  [13 12  0  0]\n",
      "  [ 6  3  0  0]\n",
      "  [ 9  0  0  0]]\n",
      "\n",
      " ...\n",
      "\n",
      " [[ 5  8  0  0]\n",
      "  [14  0  3  0]\n",
      "  [ 0 19  0  0]\n",
      "  [ 4 12  0  0]\n",
      "  [11  0  0  0]]\n",
      "\n",
      " [[ 5  0  1  0]\n",
      "  [18  0  0  1]\n",
      "  [19  1  1  1]\n",
      "  [10  1  0  0]\n",
      "  [ 2  2  2  0]]\n",
      "\n",
      " [[12  0  0  0]\n",
      "  [11  5  0  0]\n",
      "  [20  1  0  0]\n",
      "  [14  0  1  0]\n",
      "  [ 8  0  0  0]]]\n"
     ]
    }
   ],
   "source": [
    "ts = sim(seeds=(1, 2), n = 5)\n",
    "ts\n",
    "Rg = sim_allelereadcounts(ts, mean_depth = 15., std_depth = 3., e = 0.05, seed = 1234)\n",
    "print(Rg.shape)\n",
    "print(Rg)"
   ]
  },
  {
   "cell_type": "code",
   "execution_count": 16,
   "id": "4ea773bb-da0d-4f3f-9dbd-a318a5fd3908",
   "metadata": {},
   "outputs": [
    {
     "name": "stdout",
     "output_type": "stream",
     "text": [
      "(10, 115, 5)\n",
      "[[[4.04305127e+01 4.85166152e+01 3.02712184e+01 4.85166152e+01\n",
      "   5.25596665e+01]\n",
      "  [0.00000000e+00 0.00000000e+00 4.44276385e+01 0.00000000e+00\n",
      "   0.00000000e+00]\n",
      "  [4.03156991e+00 1.20947097e+01 3.16227293e+01 6.04735486e+00\n",
      "   0.00000000e+00]\n",
      "  ...\n",
      "  [2.35595895e+01 6.41311360e-01 7.68179741e+01 3.77045282e+01\n",
      "   0.00000000e+00]\n",
      "  [0.00000000e+00 0.00000000e+00 0.00000000e+00 0.00000000e+00\n",
      "   5.38308078e+00]\n",
      "  [0.00000000e+00 9.40316933e+00 0.00000000e+00 0.00000000e+00\n",
      "   0.00000000e+00]]\n",
      "\n",
      " [[4.06601399e+00 8.10906525e+00 0.00000000e+00 8.10906525e+00\n",
      "   8.78482069e+00]\n",
      "  [4.73028806e+00 1.01363316e+01 0.00000000e+00 8.78482069e+00\n",
      "   3.39025855e+00]\n",
      "  [0.00000000e+00 0.00000000e+00 0.00000000e+00 0.00000000e+00\n",
      "   6.08179894e+00]\n",
      "  ...\n",
      "  [0.00000000e+00 1.01018875e+01 1.28393533e+01 0.00000000e+00\n",
      "   7.43330982e+00]\n",
      "  [3.37877719e+00 1.21635979e+01 9.47205749e+00 3.39025855e+00\n",
      "   0.00000000e+00]\n",
      "  [8.10906525e+00 0.00000000e+00 1.01478129e+01 9.46057613e+00\n",
      "   5.40604350e+00]]\n",
      "\n",
      " [[4.11062681e+01 4.51493194e+01 3.70402541e+01 4.85166152e+01\n",
      "   4.91923707e+01]\n",
      "  [4.73028806e+00 1.01363316e+01 5.05094374e+01 8.78482069e+00\n",
      "   6.75755438e+00]\n",
      "  [3.36729583e+00 2.02037750e+01 4.04075500e+01 1.01018875e+01\n",
      "   6.08179894e+00]\n",
      "  ...\n",
      "  [2.69383666e+01 0.00000000e+00 7.68179741e+01 4.04075500e+01\n",
      "   7.43330982e+00]\n",
      "  [1.14813593e-02 1.21635979e+01 9.47205749e+00 6.75755438e+00\n",
      "   0.00000000e+00]\n",
      "  [8.10906525e+00 1.68364791e+01 1.35151088e+01 6.09328030e+00\n",
      "   5.40604350e+00]]\n",
      "\n",
      " ...\n",
      "\n",
      " [[4.44735639e+01 4.44735639e+01 8.68739361e+01 4.85166152e+01\n",
      "   4.85166152e+01]\n",
      "  [2.83013589e+01 6.06457690e+01 8.08150999e+01 5.25596665e+01\n",
      "   4.04305127e+01]\n",
      "  [1.61607237e+01 6.06113249e+01 8.41823957e+01 3.03056625e+01\n",
      "   3.63874614e+01]\n",
      "  ...\n",
      "  [4.37748458e+01 4.51148753e+01 7.68179741e+01 5.38767333e+01\n",
      "   4.44735639e+01]\n",
      "  [1.61722051e+01 7.27749228e+01 7.27749228e+01 4.04305127e+01\n",
      "   5.38308078e+00]\n",
      "  [4.85166152e+01 5.38767333e+01 8.08610254e+01 5.25596665e+01\n",
      "   3.23444101e+01]]\n",
      "\n",
      " [[4.11062681e+01 3.84147277e+01 8.41823957e+01 4.85166152e+01\n",
      "   4.91923707e+01]\n",
      "  [2.83013589e+01 6.06457690e+01 8.08150999e+01 5.25596665e+01\n",
      "   3.70632168e+01]\n",
      "  [1.34691833e+01 6.06113249e+01 8.41823957e+01 3.03056625e+01\n",
      "   3.63874614e+01]\n",
      "  ...\n",
      "  [4.37748458e+01 4.71421416e+01 7.68179741e+01 5.38767333e+01\n",
      "   4.44735639e+01]\n",
      "  [1.68479605e+01 6.94076270e+01 7.00833824e+01 4.04305127e+01\n",
      "   6.73459166e+00]\n",
      "  [4.85166152e+01 5.38767333e+01 8.08610254e+01 5.32354219e+01\n",
      "   3.23444101e+01]]\n",
      "\n",
      " [[4.04305127e+01 4.04305127e+01 8.68739361e+01 4.85166152e+01\n",
      "   5.25596665e+01]\n",
      "  [2.83013589e+01 6.06457690e+01 8.08150999e+01 5.25596665e+01\n",
      "   3.63874614e+01]\n",
      "  [1.61607237e+01 6.06113249e+01 8.41823957e+01 3.03056625e+01\n",
      "   3.63874614e+01]\n",
      "  ...\n",
      "  [4.37748458e+01 5.72440291e+01 7.68179741e+01 5.38767333e+01\n",
      "   4.44735639e+01]\n",
      "  [2.02152563e+01 6.87318716e+01 7.27749228e+01 4.04305127e+01\n",
      "   1.34691833e+01]\n",
      "  [4.85166152e+01 5.38767333e+01 8.08610254e+01 5.66027177e+01\n",
      "   3.23444101e+01]]]\n"
     ]
    }
   ],
   "source": [
    "GL = allelereadcounts_to_GL(Rg, e = 0.05)\n",
    "print(GL.shape)\n",
    "print(GL)"
   ]
  },
  {
   "cell_type": "code",
   "execution_count": 17,
   "id": "8cae97f6-a524-42c5-9bff-db9825e8f386",
   "metadata": {},
   "outputs": [
    {
     "name": "stdout",
     "output_type": "stream",
     "text": [
      "5\n",
      "10\n",
      "50\n",
      "100\n",
      "500\n",
      "1000\n",
      "5000\n"
     ]
    }
   ],
   "source": [
    "ns = [5, 10, 50, 100, 500, 1000, 5000]\n",
    "xs = []\n",
    "ws = []\n",
    "for n in ns:\n",
    "    print(n)\n",
    "    ts = sim(seeds=(1, 2), n = n)\n",
    "    xs.append(ts.num_mutations)\n",
    "    start_time = time.time()\n",
    "    allelereadcounts_to_GL(sim_allelereadcounts(ts, mean_depth = 30., std_depth = 5., e = 0.05, seed = 1234), e = 0.05)\n",
    "    ws.append(time.time()-start_time)"
   ]
  },
  {
   "cell_type": "code",
   "execution_count": 18,
   "id": "0cd74802-8d3a-4ce1-b86c-cab410fccb34",
   "metadata": {},
   "outputs": [
    {
     "data": {
      "text/html": [
       "<div>\n",
       "<style scoped>\n",
       "    .dataframe tbody tr th:only-of-type {\n",
       "        vertical-align: middle;\n",
       "    }\n",
       "\n",
       "    .dataframe tbody tr th {\n",
       "        vertical-align: top;\n",
       "    }\n",
       "\n",
       "    .dataframe thead th {\n",
       "        text-align: right;\n",
       "    }\n",
       "</style>\n",
       "<table border=\"1\" class=\"dataframe\">\n",
       "  <thead>\n",
       "    <tr style=\"text-align: right;\">\n",
       "      <th></th>\n",
       "      <th>n_ind</th>\n",
       "      <th>n_snp</th>\n",
       "      <th>time</th>\n",
       "    </tr>\n",
       "  </thead>\n",
       "  <tbody>\n",
       "    <tr>\n",
       "      <th>0</th>\n",
       "      <td>5</td>\n",
       "      <td>115</td>\n",
       "      <td>0.022767</td>\n",
       "    </tr>\n",
       "    <tr>\n",
       "      <th>1</th>\n",
       "      <td>10</td>\n",
       "      <td>174</td>\n",
       "      <td>0.064761</td>\n",
       "    </tr>\n",
       "    <tr>\n",
       "      <th>2</th>\n",
       "      <td>50</td>\n",
       "      <td>192</td>\n",
       "      <td>0.580164</td>\n",
       "    </tr>\n",
       "    <tr>\n",
       "      <th>3</th>\n",
       "      <td>100</td>\n",
       "      <td>303</td>\n",
       "      <td>1.166897</td>\n",
       "    </tr>\n",
       "    <tr>\n",
       "      <th>4</th>\n",
       "      <td>500</td>\n",
       "      <td>397</td>\n",
       "      <td>9.780688</td>\n",
       "    </tr>\n",
       "    <tr>\n",
       "      <th>5</th>\n",
       "      <td>1000</td>\n",
       "      <td>448</td>\n",
       "      <td>23.408191</td>\n",
       "    </tr>\n",
       "    <tr>\n",
       "      <th>6</th>\n",
       "      <td>5000</td>\n",
       "      <td>479</td>\n",
       "      <td>145.201849</td>\n",
       "    </tr>\n",
       "  </tbody>\n",
       "</table>\n",
       "</div>"
      ],
      "text/plain": [
       "   n_ind  n_snp        time\n",
       "0      5    115    0.022767\n",
       "1     10    174    0.064761\n",
       "2     50    192    0.580164\n",
       "3    100    303    1.166897\n",
       "4    500    397    9.780688\n",
       "5   1000    448   23.408191\n",
       "6   5000    479  145.201849"
      ]
     },
     "execution_count": 18,
     "metadata": {},
     "output_type": "execute_result"
    }
   ],
   "source": [
    "df = pd.DataFrame({\"n_ind\" : ns, \"n_snp\" : xs, \"time\" :ws})\n",
    "df"
   ]
  },
  {
   "cell_type": "code",
   "execution_count": 37,
   "id": "e09833d5-5c4b-4f33-b63e-9277d2d308f7",
   "metadata": {},
   "outputs": [
    {
     "data": {
      "image/png": "[encoded data removed]"
     },
     "metadata": {},
     "output_type": "display_data"
    }
   ],
   "source": [
    "%%R -i df\n",
    "\n",
    "df %>% \n",
    "    ggplot(aes(x = n_ind*n_snp, y = time/60)) +\n",
    "    geom_point() "
   ]
  },
  {
   "cell_type": "markdown",
   "id": "6b345b0c-43d0-4a91-8e03-8ede19830672",
   "metadata": {},
   "source": [
    "So, we can se that to simulate GL for 10,000 individuals it takes less than 3 min. \n",
    "\n",
    "## 4. Further improvements\n",
    "\n",
    "1. Introduce potential errors to invariable sites\n",
    "2. Make possible a different reference sequence such that we do not need to assume that A = anc and C = der.\n",
    "3. Check the order of individuals since nodes can be messed up. Check if the index of nodes it always goes from 0 to # nodes and are sorted in genotype matrix accordingly.\n",
    "4. allow any ploidy"
   ]
  },
  {
   "cell_type": "markdown",
   "id": "be886d34-9b8b-49a6-8c22-9b98fdacff24",
   "metadata": {},
   "source": [
    "# 5. Testing GL calculation\n",
    "\n",
    "To test that the computation of genotype likelihoods is correct, I'll compare to the results obtained with other programs (`angsd` and `bcftools`). \n",
    "\n",
    "For that, I'll first fake a test dataset in which there is only a single read \"A\" for a single position. The error rate is assumed to be $e = 0.05012$ since it corresponds to the ACII value \".\" in phred scale based 33 as it is explained in this [link](https://www.drive5.com/usearch/manual/quality_score.html). This is because the input of those programs is with the ACII coded error rates.\n",
    "\n",
    "The genotype read alleles counts is the following:"
   ]
  },
  {
   "cell_type": "code",
   "execution_count": 20,
   "id": "5a873fcb-5e63-4280-be0b-613db11b0ca5",
   "metadata": {},
   "outputs": [
    {
     "data": {
      "text/plain": [
       "array([[[1, 0, 0, 0]]])"
      ]
     },
     "execution_count": 20,
     "metadata": {},
     "output_type": "execute_result"
    }
   ],
   "source": [
    "test = np.array([[[1, 0, 0, 0]]])\n",
    "test"
   ]
  },
  {
   "cell_type": "markdown",
   "id": "2e3a54de-5c74-40e0-a188-3b08136efd28",
   "metadata": {},
   "source": [
    "### 5.1. Testing GL calculation by `allelereadcounts_to_GL()` function"
   ]
  },
  {
   "cell_type": "code",
   "execution_count": 21,
   "id": "32d12f12-a986-4e64-8566-76b44a7491ce",
   "metadata": {},
   "outputs": [
    {
     "data": {
      "text/plain": [
       "array([0.        , 0.67571188, 0.67571188, 0.67571188, 4.04052782,\n",
       "       4.04052782, 4.04052782, 4.04052782, 4.04052782, 4.04052782])"
      ]
     },
     "execution_count": 21,
     "metadata": {},
     "output_type": "execute_result"
    }
   ],
   "source": [
    "allelereadcounts_to_GL(test, e = 0.05012)[:, 0, 0]"
   ]
  },
  {
   "cell_type": "markdown",
   "id": "b717e556-ca72-4140-a8d1-544f3e743012",
   "metadata": {},
   "source": [
    "### 5.2. GL from `angsd`\n",
    "\n",
    "First, I'll creat a function that takes the \"allelereadcounts\" format and formats it to \"pileup\" in order to input the file to `angsd`. "
   ]
  },
  {
   "cell_type": "code",
   "execution_count": 22,
   "id": "9b4c42f7-c9a6-48d4-93a6-f64f70c182dc",
   "metadata": {},
   "outputs": [],
   "source": [
    "def allelereadcounts_to_pileup(allelereadcounts):\n",
    "    with open(\"reads.pileup\", \"w\") as out:\n",
    "        first_line = True\n",
    "        for i in range(allelereadcounts.shape[0]):\n",
    "            line = \"1\\t\"+str(i+1)+\"\\tN\"\n",
    "            for j in range(allelereadcounts.shape[1]):\n",
    "                nreads = allelereadcounts[i, j, :].sum()\n",
    "                line = line+\"\\t\"+str(nreads)+\"\\t\"\n",
    "                if nreads:\n",
    "                    for c, b in zip(allelereadcounts[i, j, :], [\"A\", \"C\", \"G\", \"T\"]):\n",
    "                        line = line+c*b\n",
    "                    line = line+\"\\t\"+\".\"*nreads\n",
    "                else:\n",
    "                    line = line+\"\\t*\\t*\"\n",
    "            out.write(line+\"\\n\")\n",
    "    \n",
    "allelereadcounts_to_pileup(test)"
   ]
  },
  {
   "cell_type": "code",
   "execution_count": 23,
   "id": "297dd1e7-ece9-4956-b7fa-f602df3a105a",
   "metadata": {},
   "outputs": [
    {
     "name": "stdout",
     "output_type": "stream",
     "text": [
      "1 reads.pileup\n",
      "1\t1\tN\t1\tA\t.\n"
     ]
    }
   ],
   "source": [
    "%%bash\n",
    "\n",
    "wc -l reads.pileup\n",
    "head reads.pileup\n",
    "gzip -c reads.pileup > reads.pileup.gz"
   ]
  },
  {
   "cell_type": "markdown",
   "id": "a9be27f8-1125-4f95-87ef-338aba094fbc",
   "metadata": {},
   "source": [
    "As we can see, there is a single read in position 1 for a single individual which corresponds to allele \"A\" with quality \".\" that corresponds to $e = 0.05012$. We are ready to run `angsd`."
   ]
  },
  {
   "cell_type": "code",
   "execution_count": 24,
   "id": "e8aaccfa-9b93-4bc3-a0ec-8a3985877489",
   "metadata": {},
   "outputs": [
    {
     "name": "stderr",
     "output_type": "stream",
     "text": [
      "\t-> angsd version: 0.935-53-gf475f10 (htslib: 1.14) build(Dec 13 2021 09:22:17)\n",
      "\t-> angsd -GL 2 -pileup reads.pileup.gz -fai ../spaceNNtime/jupyternotebooks/angsd_msToGlf_pileup_output/fasta.fa.fai -doGlf 4 -nind 1 \n",
      "\t-> No '-out' argument given, output files will be called 'angsdput'\n",
      "\t-> Inputtype is pileup\n",
      "\t-> You are using -pileup, this means:\n",
      "\t-> 1) Internal positions both from front and back is coded to 255\n",
      "\t-> 2) All mapping qualities (mapQ) are set to 30\n",
      "\t-> 3) Program will not represent insertions, use raw BAM/CRAM for that\n",
      "\t-> Done reading data waiting for calculations to finish\n",
      "\t-> Done waiting for threads\n",
      "\t-> Output filenames:\n",
      "\t\t->\"angsdput.arg\"\n",
      "\t\t->\"angsdput.glf.gz\"\n",
      "\t-> Fri Dec 17 19:42:27 2021\n",
      "\t-> Arguments and parameters for all analysis are located in .arg file\n",
      "\t-> Total number of sites analyzed: 1\n",
      "\t-> Number of sites retained after filtering: 1 \n",
      "\t[ALL done] cpu-time used =  0.00 sec\n",
      "\t[ALL done] walltime used =  0.00 sec\n",
      "\n",
      "real\t0m0.015s\n",
      "user\t0m0.007s\n",
      "sys\t0m0.002s\n"
     ]
    }
   ],
   "source": [
    "%%bash\n",
    "\n",
    "time angsd -GL 2                                                                            \\\n",
    "           -pileup reads.pileup.gz                                                          \\\n",
    "           -fai    ../spaceNNtime/jupyternotebooks/angsd_msToGlf_pileup_output/fasta.fa.fai \\\n",
    "           -doGlf  4                                                                        \\\n",
    "           -nind   1"
   ]
  },
  {
   "cell_type": "code",
   "execution_count": 25,
   "id": "6491b589-2084-406c-bc75-85b8c5102372",
   "metadata": {},
   "outputs": [
    {
     "name": "stdout",
     "output_type": "stream",
     "text": [
      "1\t1\t0.000000\t-0.675712\t-0.675712\t-0.675712\t-4.040555\t-4.040555\t-4.040555\t-4.040555\t-4.040555\t-4.040555\n"
     ]
    }
   ],
   "source": [
    "%%bash\n",
    "\n",
    "zcat angsdput.glf.gz"
   ]
  },
  {
   "cell_type": "markdown",
   "id": "c511b723-b4db-44a8-b7eb-5672833354ad",
   "metadata": {},
   "source": [
    "### 5.3. GL from `bcftools`\n",
    "\n",
    "In this case, I need to simulate a \"sam\" mapped file which will be transformed to \"bam\" to be inputed to `bcftools mpileup`."
   ]
  },
  {
   "cell_type": "code",
   "execution_count": 26,
   "id": "0b5b19a6-36ed-4158-a157-173a5208e4e4",
   "metadata": {},
   "outputs": [],
   "source": [
    "def allelereadcounts_to_SAM(allelereadcounts):\n",
    "    counts = 0\n",
    "    for ind in range(allelereadcounts.shape[1]):\n",
    "        with open(\"ind\"+str(ind)+\".sam\", \"w\") as out:\n",
    "            out.write(\"@SQ\\tSN:1\\tLN:100000\\n\")\n",
    "            for pos in range(allelereadcounts.shape[0]):\n",
    "                for bp, rep in zip([\"A\", \"C\", \"G\", \"T\"], allelereadcounts[pos, ind]):\n",
    "                    for z in range(rep):\n",
    "                        QNAME = str(ind)+\"_\"+str(pos)+\"_\"+str(counts)\n",
    "                        FLAG  = \"0\"\n",
    "                        RNAME = \"1\"\n",
    "                        POS   = str(pos+1)\n",
    "                        MAPQ  = \"255\"\n",
    "                        CIGAR = \"1M\"\n",
    "                        RNEXT = \"*\"\n",
    "                        PNEXT = \"0\"\n",
    "                        TLEN  = \"0\"\n",
    "                        SEQ   = bp\n",
    "                        QUAL  = \"M\"\n",
    "                        counts += 1\n",
    "                        out.write(\"\\t\".join([QNAME, FLAG, RNAME, POS, MAPQ, CIGAR, RNEXT, PNEXT, TLEN, SEQ, QUAL])+\"\\n\")\n",
    "                        \n",
    "allelereadcounts_to_SAM(test)"
   ]
  },
  {
   "cell_type": "code",
   "execution_count": 27,
   "id": "e8947b82-1c17-4b40-b902-6f8bfe61e949",
   "metadata": {},
   "outputs": [
    {
     "name": "stdout",
     "output_type": "stream",
     "text": [
      "2 ind0.sam\n",
      "@SQ\tSN:1\tLN:100000\n",
      "0_0_0\t0\t1\t1\t255\t1M\t*\t0\t0\tA\tM\n"
     ]
    }
   ],
   "source": [
    "%%bash\n",
    "\n",
    "wc -l ind0.sam\n",
    "head ind0.sam"
   ]
  },
  {
   "cell_type": "code",
   "execution_count": 28,
   "id": "00a4616c-77b6-40b6-903b-a8b5a4f66c50",
   "metadata": {},
   "outputs": [],
   "source": [
    "%%bash\n",
    "\n",
    "samtools view -bS ind0.sam > ind0.bam"
   ]
  },
  {
   "cell_type": "code",
   "execution_count": 29,
   "id": "b5958a68-2886-460d-a1b2-d8e82294d50c",
   "metadata": {},
   "outputs": [
    {
     "name": "stdout",
     "output_type": "stream",
     "text": [
      "##fileformat=VCFv4.2\n",
      "##FILTER=<ID=PASS,Description=\"All filters passed\">\n",
      "##bcftoolsVersion=1.14+htslib-1.14\n",
      "##bcftoolsCommand=mpileup --no-reference ind0.sam\n",
      "##contig=<ID=1,length=100000>\n",
      "##ALT=<ID=*,Description=\"Represents allele(s) other than observed.\">\n",
      "##INFO=<ID=INDEL,Number=0,Type=Flag,Description=\"Indicates that the variant is an INDEL.\">\n",
      "##INFO=<ID=IDV,Number=1,Type=Integer,Description=\"Maximum number of raw reads supporting an indel\">\n",
      "##INFO=<ID=IMF,Number=1,Type=Float,Description=\"Maximum fraction of raw reads supporting an indel\">\n",
      "##INFO=<ID=DP,Number=1,Type=Integer,Description=\"Raw read depth\">\n",
      "##INFO=<ID=VDB,Number=1,Type=Float,Description=\"Variant Distance Bias for filtering splice-site artefacts in RNA-seq data (bigger is better)\",Version=\"3\">\n",
      "##INFO=<ID=RPBZ,Number=1,Type=Float,Description=\"Mann-Whitney U-z test of Read Position Bias (closer to 0 is better)\">\n",
      "##INFO=<ID=MQBZ,Number=1,Type=Float,Description=\"Mann-Whitney U-z test of Mapping Quality Bias (closer to 0 is better)\">\n",
      "##INFO=<ID=BQBZ,Number=1,Type=Float,Description=\"Mann-Whitney U-z test of Base Quality Bias (closer to 0 is better)\">\n",
      "##INFO=<ID=MQSBZ,Number=1,Type=Float,Description=\"Mann-Whitney U-z test of Mapping Quality vs Strand Bias (closer to 0 is better)\">\n",
      "##INFO=<ID=SCBZ,Number=1,Type=Float,Description=\"Mann-Whitney U-z test of Soft-Clip Length Bias (closer to 0 is better)\">\n",
      "##INFO=<ID=FS,Number=1,Type=Float,Description=\"Phred-scaled p-value using Fisher's exact test to detect strand bias\">\n",
      "##INFO=<ID=SGB,Number=1,Type=Float,Description=\"Segregation based metric.\">\n",
      "##INFO=<ID=MQ0F,Number=1,Type=Float,Description=\"Fraction of MQ0 reads (smaller is better)\">\n",
      "##INFO=<ID=I16,Number=16,Type=Float,Description=\"Auxiliary tag used for calling, see description of bcf_callret1_t in bam2bcf.h\">\n",
      "##INFO=<ID=QS,Number=R,Type=Float,Description=\"Auxiliary tag used for calling\">\n",
      "##FORMAT=<ID=PL,Number=G,Type=Integer,Description=\"List of Phred-scaled genotype likelihoods\">\n",
      "#CHROM\tPOS\tID\tREF\tALT\tQUAL\tFILTER\tINFO\tFORMAT\tind0.sam\n",
      "1\t1\t.\tN\tA,<*>\t0\t.\tDP=1;I16=0,0,1,0,0,0,44,1936,0,0,20,400,0,0,0,0;QS=0,1,0;SGB=-0.379885;FS=0;MQ0F=0\tPL\t20,3,0,20,3,20\n"
     ]
    },
    {
     "name": "stderr",
     "output_type": "stream",
     "text": [
      "[mpileup] 1 samples in 1 input files\n",
      "[mpileup] maximum number of reads per input file set to -d 250\n"
     ]
    }
   ],
   "source": [
    "%%bash\n",
    "\n",
    "bcftools mpileup ind0.sam --no-reference "
   ]
  },
  {
   "cell_type": "markdown",
   "id": "56a73837-3641-486c-8741-21677058a939",
   "metadata": {},
   "source": [
    "### 5.4. All results together and more testing"
   ]
  },
  {
   "cell_type": "raw",
   "id": "01ed22d5-03e8-4a53-b775-828f06a4d82a",
   "metadata": {},
   "source": [
    "             AA.          AC.          AG.         AT.         CC.         CG.         CT.         GG.         GT.         TT\n",
    "mois     ->  0.        ,  0.67571188,  0.67571188, 0.67571188, 4.04052782, 4.04052782, 4.04052782, 4.04052782, 4.04052782, 4.04052782\n",
    "angsd    ->  0.000000  , -0.675712  , -0.675712  ,-0.675712  ,-4.040555  ,-4.040555  ,-4.040555  ,-4.040555  ,-4.040555  ,-4.040555\n",
    "bcftools ->  ???"
   ]
  },
  {
   "cell_type": "markdown",
   "id": "b4570cbc-cb34-423e-8a18-01e677435158",
   "metadata": {},
   "source": [
    "We can see that the GL derived from our function and `angsd` is very similar (let alown that they have oposite signs). I can't make much sense about the `bcftools` result which in the future I'll have a look. Then, I can try with a more complex example. In this case the individual is supposed to be still homozygote \"CC\"."
   ]
  },
  {
   "cell_type": "code",
   "execution_count": 30,
   "id": "79838713-fdce-40d9-a780-fe326487121b",
   "metadata": {},
   "outputs": [
    {
     "data": {
      "text/plain": [
       "array([[[ 1, 11,  0,  1]]])"
      ]
     },
     "execution_count": 30,
     "metadata": {},
     "output_type": "execute_result"
    }
   ],
   "source": [
    "test = Rg[0, 0, :].reshape(1, 1, 4)\n",
    "test"
   ]
  },
  {
   "cell_type": "code",
   "execution_count": 31,
   "id": "6b029245-21d8-4071-bcfc-359c5acd4d36",
   "metadata": {},
   "outputs": [
    {
     "data": {
      "text/plain": [
       "array([-40.40527819,  -4.06801469, -41.08099007, -37.71617413,\n",
       "        -0.        ,  -7.43283064,  -4.06801469, -44.44580601,\n",
       "       -41.08099007, -40.40527819])"
      ]
     },
     "execution_count": 31,
     "metadata": {},
     "output_type": "execute_result"
    }
   ],
   "source": [
    "allelereadcounts_to_GL(test, e = 0.05012)[:, 0, 0]*-1"
   ]
  },
  {
   "cell_type": "code",
   "execution_count": 32,
   "id": "28742808-0b2d-4009-b71c-38c309ab095a",
   "metadata": {},
   "outputs": [],
   "source": [
    "allelereadcounts_to_pileup(test)"
   ]
  },
  {
   "cell_type": "code",
   "execution_count": 33,
   "id": "520dec3a-b766-4d70-b494-8578c392bfc1",
   "metadata": {},
   "outputs": [
    {
     "name": "stdout",
     "output_type": "stream",
     "text": [
      "1\t1\t-40.405546\t-4.067993\t-41.081259\t-37.716416\t0.000000\t-7.432836\t-4.067993\t-44.446101\t-41.081259\t-40.405546\n"
     ]
    },
    {
     "name": "stderr",
     "output_type": "stream",
     "text": [
      "\t-> angsd version: 0.935-53-gf475f10 (htslib: 1.14) build(Dec 13 2021 09:22:17)\n",
      "\t-> angsd -GL 2 -pileup reads.pileup.gz -fai ../spaceNNtime/jupyternotebooks/angsd_msToGlf_pileup_output/fasta.fa.fai -doGlf 4 -nind 1 \n",
      "\t-> No '-out' argument given, output files will be called 'angsdput'\n",
      "\t-> Inputtype is pileup\n",
      "\t-> You are using -pileup, this means:\n",
      "\t-> 1) Internal positions both from front and back is coded to 255\n",
      "\t-> 2) All mapping qualities (mapQ) are set to 30\n",
      "\t-> 3) Program will not represent insertions, use raw BAM/CRAM for that\n",
      "\t-> Done reading data waiting for calculations to finish\n",
      "\t-> Done waiting for threads\n",
      "\t-> Output filenames:\n",
      "\t\t->\"angsdput.arg\"\n",
      "\t\t->\"angsdput.glf.gz\"\n",
      "\t-> Fri Dec 17 19:42:27 2021\n",
      "\t-> Arguments and parameters for all analysis are located in .arg file\n",
      "\t-> Total number of sites analyzed: 1\n",
      "\t-> Number of sites retained after filtering: 1 \n",
      "\t[ALL done] cpu-time used =  0.00 sec\n",
      "\t[ALL done] walltime used =  0.00 sec\n",
      "\n",
      "real\t0m0.016s\n",
      "user\t0m0.007s\n",
      "sys\t0m0.003s\n"
     ]
    }
   ],
   "source": [
    "%%bash\n",
    "\n",
    "gzip -c reads.pileup > reads.pileup.gz\n",
    "\n",
    "time angsd -GL 2                                                                            \\\n",
    "           -pileup reads.pileup.gz                                                          \\\n",
    "           -fai    ../spaceNNtime/jupyternotebooks/angsd_msToGlf_pileup_output/fasta.fa.fai \\\n",
    "           -doGlf  4                                                                        \\\n",
    "           -nind   1\n",
    "\n",
    "zcat angsdput.glf.gz"
   ]
  },
  {
   "cell_type": "raw",
   "id": "e49908bb-9043-473a-8d36-0c3eda8d9f9f",
   "metadata": {},
   "source": [
    "moise -> -40.40527819,  -4.06801469, -41.08099007, -37.71617413, 0.        , -7.43283064,  -4.06801469, -44.44580601, -41.08099007, -40.40527819\n",
    "ansgd -> -40.405546  ,  -4.067993  , -41.081259  , -37.716416  , 0.000000  , -7.432836  ,  -4.067993  , -44.446101  , -41.081259  , -40.405546"
   ]
  },
  {
   "cell_type": "markdown",
   "id": "63a4ccc6-1bd5-41ce-9070-59b0f34670d4",
   "metadata": {},
   "source": [
    "Very close.\n",
    "\n",
    "Finally, let's try a heterozygote example."
   ]
  },
  {
   "cell_type": "code",
   "execution_count": 34,
   "id": "39862bca-fc35-4684-9ac8-232d942d0be5",
   "metadata": {},
   "outputs": [
    {
     "data": {
      "text/plain": [
       "array([-100.26876642,  -97.57966236,  -47.10742321,  -50.47223915,\n",
       "       -100.26876642,  -47.10742321,  -50.47223915,  -39.66084913,\n",
       "         -0.        ,  -43.70137695])"
      ]
     },
     "execution_count": 34,
     "metadata": {},
     "output_type": "execute_result"
    }
   ],
   "source": [
    "test = np.array([[[1, 1, 16, 15]]])\n",
    "allelereadcounts_to_pileup(test)\n",
    "allelereadcounts_to_GL(test, e = 0.05012)[:, 0, 0]*-1"
   ]
  },
  {
   "cell_type": "code",
   "execution_count": 35,
   "id": "3245e96c-1dc6-4661-b6ff-05de98c2e3a1",
   "metadata": {},
   "outputs": [
    {
     "name": "stdout",
     "output_type": "stream",
     "text": [
      "1\t1\t-100.269557\t-97.580427\t-47.107792\t-50.472634\t-100.269557\t-47.107792\t-50.472634\t-39.661237\t0.000000\t-43.701792\n"
     ]
    },
    {
     "name": "stderr",
     "output_type": "stream",
     "text": [
      "\t-> angsd version: 0.935-53-gf475f10 (htslib: 1.14) build(Dec 13 2021 09:22:17)\n",
      "\t-> angsd -GL 2 -pileup reads.pileup.gz -fai ../spaceNNtime/jupyternotebooks/angsd_msToGlf_pileup_output/fasta.fa.fai -doGlf 4 -nind 1 \n",
      "\t-> No '-out' argument given, output files will be called 'angsdput'\n",
      "\t-> Inputtype is pileup\n",
      "\t-> You are using -pileup, this means:\n",
      "\t-> 1) Internal positions both from front and back is coded to 255\n",
      "\t-> 2) All mapping qualities (mapQ) are set to 30\n",
      "\t-> 3) Program will not represent insertions, use raw BAM/CRAM for that\n",
      "\t-> Done reading data waiting for calculations to finish\n",
      "\t-> Done waiting for threads\n",
      "\t-> Output filenames:\n",
      "\t\t->\"angsdput.arg\"\n",
      "\t\t->\"angsdput.glf.gz\"\n",
      "\t-> Fri Dec 17 19:42:27 2021\n",
      "\t-> Arguments and parameters for all analysis are located in .arg file\n",
      "\t-> Total number of sites analyzed: 1\n",
      "\t-> Number of sites retained after filtering: 1 \n",
      "\t[ALL done] cpu-time used =  0.00 sec\n",
      "\t[ALL done] walltime used =  0.00 sec\n",
      "\n",
      "real\t0m0.016s\n",
      "user\t0m0.006s\n",
      "sys\t0m0.004s\n"
     ]
    }
   ],
   "source": [
    "%%bash\n",
    "\n",
    "gzip -c reads.pileup > reads.pileup.gz\n",
    "\n",
    "time angsd -GL 2                                                                            \\\n",
    "           -pileup reads.pileup.gz                                                          \\\n",
    "           -fai    ../spaceNNtime/jupyternotebooks/angsd_msToGlf_pileup_output/fasta.fa.fai \\\n",
    "           -doGlf  4                                                                        \\\n",
    "           -nind   1\n",
    "\n",
    "zcat angsdput.glf.gz"
   ]
  },
  {
   "cell_type": "raw",
   "id": "ee5eb768-5bfe-48a3-8093-a22d19319811",
   "metadata": {},
   "source": [
    "moise -> -100.26876642,  -97.57966236,  -47.10742321,  -50.47223915,-100.26876642,  -47.10742321,  -50.47223915,  -39.66084913, 0.        , -43.70137695\n",
    "ansgd -> -100.269557  ,  -97.580427  ,  -47.107792  ,  -50.472634  ,-100.269557  ,  -47.107792  ,  -50.472634  ,  -39.661237  , 0.000000  , -43.701792"
   ]
  },
  {
   "cell_type": "markdown",
   "id": "c7b5146c-0034-41b9-badc-87907dd8a2df",
   "metadata": {},
   "source": [
    "The results are pretty close, so we can assume that it is correct since it seems the error is about the rounding. "
   ]
  },
  {
   "cell_type": "code",
   "execution_count": 36,
   "id": "9741a4a2-4f5b-4791-bf49-49d221b44aa7",
   "metadata": {},
   "outputs": [],
   "source": [
    "%%bash \n",
    "\n",
    "rm -f angsdput.glf.gz ind*.sam ind*.bam angsdput*"
   ]
  }
 ],
 "metadata": {
  "kernelspec": {
   "display_name": "Python 3 (ipykernel)",
   "language": "python",
   "name": "python3"
  },
  "language_info": {
   "codemirror_mode": {
    "name": "ipython",
    "version": 3
   },
   "file_extension": ".py",
   "mimetype": "text/x-python",
   "name": "python",
   "nbconvert_exporter": "python",
   "pygments_lexer": "ipython3",
   "version": "3.10.0"
  }
 },
 "nbformat": 4,
 "nbformat_minor": 5
}
