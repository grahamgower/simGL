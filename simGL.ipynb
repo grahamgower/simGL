{
 "cells": [
  {
   "cell_type": "markdown",
   "id": "40219d9f-47d9-4a91-a9da-63cf3d6ad19d",
   "metadata": {},
   "source": [
    "# Simulate genotype likelihoods (GL) from tree sequence data\n",
    "\n",
    "In this jupyternotebook I'll create a function `sim_GL()` in order to simulate GL from tree structure data handled with `tskit` package. For that, I'm based on Graham Gower's gist and `ANGSD`'s `msToGlf` program. \n",
    "\n",
    "Graham's gist:\n",
    "\n",
    "https://gist.github.com/grahamgower/10779172a4a8368f993e154bf69dbe33\n",
    "\n",
    "# 0. Importing packages for python and R"
   ]
  },
  {
   "cell_type": "code",
   "execution_count": 46,
   "id": "a3c58dad-95fa-4fe1-8971-521842ea4182",
   "metadata": {},
   "outputs": [
    {
     "name": "stdout",
     "output_type": "stream",
     "text": [
      "The rpy2.ipython extension is already loaded. To reload it, use:\n",
      "  %reload_ext rpy2.ipython\n"
     ]
    }
   ],
   "source": [
    "import time\n",
    "import numpy as np\n",
    "import pandas as pd \n",
    "import msprime\n",
    "import tskit\n",
    "\n",
    "from rpy2.robjects import r, pandas2ri\n",
    "%load_ext rpy2.ipython\n",
    "pandas2ri.activate()"
   ]
  },
  {
   "cell_type": "code",
   "execution_count": 2,
   "id": "966418dd-9400-405c-8983-a4714ad51704",
   "metadata": {},
   "outputs": [
    {
     "name": "stderr",
     "output_type": "stream",
     "text": [
      "R[write to console]: ── Attaching packages ─────────────────────────────────────── tidyverse 1.3.1 ──\n",
      "\n",
      "R[write to console]: ✔ tibble  3.1.6     ✔ dplyr   1.0.7\n",
      "✔ tidyr   1.1.4     ✔ stringr 1.4.0\n",
      "✔ readr   2.1.1     ✔ forcats 0.5.1\n",
      "✔ purrr   0.3.4     \n",
      "\n",
      "R[write to console]: ── Conflicts ────────────────────────────────────────── tidyverse_conflicts() ──\n",
      "✖ dplyr::filter() masks stats::filter()\n",
      "✖ dplyr::lag()    masks stats::lag()\n",
      "\n"
     ]
    }
   ],
   "source": [
    "%%R\n",
    "\n",
    ".libPaths(c(\"/maps/projects/racimolab/people/qxz396/simGL/renv/library/R-4.1/x86_64-redhat-linux-gnu\", \"/tmp/Rtmp9Hi1cZ/renv-system-library\"))\n",
    "\n",
    "library(ggplot2)\n",
    "library(tidyverse)"
   ]
  },
  {
   "cell_type": "markdown",
   "id": "a919be89-a6df-490b-be27-bfbb8a5aa09d",
   "metadata": {},
   "source": [
    "# 1. Simulate a haplotype matrix\n",
    "\n",
    "From Graham's code, I use a function of his to simulate a tree"
   ]
  },
  {
   "cell_type": "code",
   "execution_count": 3,
   "id": "d2d9fdc3-ee40-4a1b-8995-c503bca50399",
   "metadata": {},
   "outputs": [
    {
     "data": {
      "text/html": [
       "\n",
       "            <div>\n",
       "              <style>\n",
       "                .tskit-table thead tr th {text-align: left;padding: 0.5em 0.5em;}\n",
       "                .tskit-table tbody tr td {padding: 0.5em 0.5em;}\n",
       "                .tskit-table tbody tr td:first-of-type {text-align: left;}\n",
       "                .tskit-details-label {vertical-align: top; padding-right:5px;}\n",
       "                .tskit-table-set {display: inline-flex;flex-wrap: wrap;margin: -12px 0 0 -12px;width: calc(100% + 12px);}\n",
       "                .tskit-table-set-table {margin: 12px 0 0 12px;}\n",
       "                details {display: inline-block;}\n",
       "                summary {cursor: pointer; outline: 0; display: list-item;}\n",
       "              </style>\n",
       "              <div class=\"tskit-table-set\">\n",
       "                <div class=\"tskit-table-set-table\">\n",
       "                  <table class=\"tskit-table\">\n",
       "                    <thead>\n",
       "                      <tr>\n",
       "                        <th style=\"padding:0;line-height:21px;\">\n",
       "                          <img style=\"height: 32px;display: inline-block;padding: 3px 5px 3px 0;\" src=\"https://raw.githubusercontent.com/tskit-dev/administrative/main/tskit_logo.svg\"/>\n",
       "                          <a target=\"_blank\" href=\"https://tskit.dev/tskit/docs/latest/python-api.html#the-treesequence-class\"> Tree Sequence </a>\n",
       "                        </th>\n",
       "                      </tr>\n",
       "                    </thead>\n",
       "                    <tbody>\n",
       "                      <tr><td>Trees</td><td>98</td></tr>\n",
       "                      <tr><td>Sequence Length</td><td>100000.0</td></tr>\n",
       "                      <tr><td>Time Units</td><td>generations</td></tr>\n",
       "                      <tr><td>Sample Nodes</td><td>10</td></tr>\n",
       "                      <tr><td>Total Size</td><td>22.8 KiB</td></tr>\n",
       "                      <tr>\n",
       "                        <td>Metadata</td><td style=\"text-align: left;\">No Metadata</td></tr>\n",
       "                    </tbody>\n",
       "                  </table>\n",
       "                </div>\n",
       "                <div class=\"tskit-table-set-table\">\n",
       "                  <table class=\"tskit-table\">\n",
       "                    <thead>\n",
       "                      <tr>\n",
       "                        <th style=\"line-height:21px;\">Table</th>\n",
       "                        <th>Rows</th>\n",
       "                        <th>Size</th>\n",
       "                        <th>Has Metadata</th>\n",
       "                      </tr>\n",
       "                    </thead>\n",
       "                    <tbody>\n",
       "                    \n",
       "                  <tr>\n",
       "                    <td>Edges</td>\n",
       "                      <td>313</td>\n",
       "                      <td>9.8 KiB</td>\n",
       "                      <td style=\"text-align: center;\">\n",
       "                        \n",
       "                      </td>\n",
       "                    </tr>\n",
       "                \n",
       "                  <tr>\n",
       "                    <td>Individuals</td>\n",
       "                      <td>5</td>\n",
       "                      <td>164 Bytes</td>\n",
       "                      <td style=\"text-align: center;\">\n",
       "                        \n",
       "                      </td>\n",
       "                    </tr>\n",
       "                \n",
       "                  <tr>\n",
       "                    <td>Migrations</td>\n",
       "                      <td>0</td>\n",
       "                      <td>8 Bytes</td>\n",
       "                      <td style=\"text-align: center;\">\n",
       "                        \n",
       "                      </td>\n",
       "                    </tr>\n",
       "                \n",
       "                  <tr>\n",
       "                    <td>Mutations</td>\n",
       "                      <td>115</td>\n",
       "                      <td>4.2 KiB</td>\n",
       "                      <td style=\"text-align: center;\">\n",
       "                        \n",
       "                      </td>\n",
       "                    </tr>\n",
       "                \n",
       "                  <tr>\n",
       "                    <td>Nodes</td>\n",
       "                      <td>88</td>\n",
       "                      <td>2.4 KiB</td>\n",
       "                      <td style=\"text-align: center;\">\n",
       "                        \n",
       "                      </td>\n",
       "                    </tr>\n",
       "                \n",
       "                  <tr>\n",
       "                    <td>Populations</td>\n",
       "                      <td>1</td>\n",
       "                      <td>224 Bytes</td>\n",
       "                      <td style=\"text-align: center;\">\n",
       "                        ✅\n",
       "                      </td>\n",
       "                    </tr>\n",
       "                \n",
       "                  <tr>\n",
       "                    <td>Provenances</td>\n",
       "                      <td>1</td>\n",
       "                      <td>722 Bytes</td>\n",
       "                      <td style=\"text-align: center;\">\n",
       "                        \n",
       "                      </td>\n",
       "                    </tr>\n",
       "                \n",
       "                  <tr>\n",
       "                    <td>Sites</td>\n",
       "                      <td>115</td>\n",
       "                      <td>2.8 KiB</td>\n",
       "                      <td style=\"text-align: center;\">\n",
       "                        \n",
       "                      </td>\n",
       "                    </tr>\n",
       "                \n",
       "                    </tbody>\n",
       "                  </table>\n",
       "                </div>\n",
       "              </div>\n",
       "            </div>\n",
       "            "
      ],
      "text/plain": [
       "<tskit.trees.TreeSequence at 0x7f313a92b010>"
      ]
     },
     "execution_count": 3,
     "metadata": {},
     "output_type": "execute_result"
    }
   ],
   "source": [
    "def sim(seeds=(1, 2), n = 5):\n",
    "    ts = msprime.sim_ancestry(\n",
    "        population_size=10_000,\n",
    "        samples=n,\n",
    "        sequence_length=100_000,\n",
    "        recombination_rate=1.25e-8,\n",
    "        random_seed=seeds[0],\n",
    "        record_provenance=False,\n",
    "    )\n",
    "    ts = msprime.sim_mutations(ts, rate=1.25e-8, random_seed=seeds[1])\n",
    "    return ts\n",
    "\n",
    "ts = sim(seeds=(1, 2))\n",
    "ts"
   ]
  },
  {
   "cell_type": "markdown",
   "id": "ddff22f8-60ec-46bd-a2c4-eeab22307eb9",
   "metadata": {},
   "source": [
    "Comments:\n",
    "\n",
    "1. Why is it necessary to give different seeds?\n",
    "\n",
    "From that, I extract the positions (reusing Graham's code):"
   ]
  },
  {
   "cell_type": "code",
   "execution_count": 4,
   "id": "6db8f3c3-8a19-4d52-ae31-8f0cc3eb6105",
   "metadata": {},
   "outputs": [
    {
     "name": "stdout",
     "output_type": "stream",
     "text": [
      "(115,)\n"
     ]
    },
    {
     "data": {
      "text/plain": [
       "array([  233.,   295.,  1688.,  2205.,  2515.,  2795.,  3357.,  4219.,\n",
       "        4272.,  4337.,  4691.,  4824.,  5616.,  6598.,  6633.,  6886.,\n",
       "        7378.,  7504.,  9248.,  9611., 10458., 11168., 11563., 12840.,\n",
       "       13258., 13476., 14359., 14469., 15237., 15606., 15713., 16003.,\n",
       "       16835., 17014., 17717., 18287., 18893., 19484., 25020., 25396.,\n",
       "       26548., 27485., 27544., 27797., 30140., 30240., 32132., 32434.,\n",
       "       32511., 32597., 32703., 32836., 32904., 32990., 34452., 35289.,\n",
       "       36367., 36682., 37246., 39165., 39567., 41466., 42729., 43633.,\n",
       "       43919., 45359., 45754., 46347., 49205., 49306., 49511., 49675.,\n",
       "       50698., 50728., 54036., 54442., 55979., 56654., 56876., 56993.,\n",
       "       57373., 60741., 60827., 61060., 61178., 64234., 67527., 67790.,\n",
       "       70380., 73119., 73319., 74320., 74773., 74871., 74921., 78772.,\n",
       "       79457., 79968., 81191., 82526., 82548., 83269., 83744., 84376.,\n",
       "       84650., 86147., 86182., 89241., 90613., 92725., 92941., 93545.,\n",
       "       94704., 94773., 96136.])"
      ]
     },
     "execution_count": 4,
     "metadata": {},
     "output_type": "execute_result"
    }
   ],
   "source": [
    "pos = np.array(ts.tables.sites.position)\n",
    "print(pos.shape)\n",
    "pos"
   ]
  },
  {
   "cell_type": "markdown",
   "id": "9cb45e79-703c-4274-8468-62741a20307c",
   "metadata": {},
   "source": [
    "and extracting the haplotype allele counts (0 = anc allele, 1 = der allele)"
   ]
  },
  {
   "cell_type": "code",
   "execution_count": 5,
   "id": "ec6c0f9c-57a7-4b2e-bda5-700084d4e668",
   "metadata": {},
   "outputs": [
    {
     "name": "stdout",
     "output_type": "stream",
     "text": [
      "(115, 10)\n"
     ]
    },
    {
     "data": {
      "text/plain": [
       "array([[1, 1, 1, ..., 1, 1, 1],\n",
       "       [0, 0, 0, ..., 0, 0, 0],\n",
       "       [0, 1, 0, ..., 1, 0, 0],\n",
       "       ...,\n",
       "       [0, 1, 0, ..., 1, 0, 0],\n",
       "       [0, 0, 0, ..., 0, 0, 1],\n",
       "       [0, 0, 0, ..., 0, 0, 0]], dtype=int8)"
      ]
     },
     "execution_count": 5,
     "metadata": {},
     "output_type": "execute_result"
    }
   ],
   "source": [
    "M = ts.genotype_matrix()\n",
    "print(M.shape)\n",
    "M"
   ]
  },
  {
   "cell_type": "markdown",
   "id": "e1e2c704-a2bd-4f18-a336-867573ebcb34",
   "metadata": {},
   "source": [
    "> ### Comments:\n",
    "1. I change dimensions from Graham's original code and make rows (first dimension) to correspond to SNPs and columns (second dimension) to correspond to haplotypes."
   ]
  },
  {
   "cell_type": "markdown",
   "id": "94880984-f999-48d0-af93-9d34ceaefd17",
   "metadata": {},
   "source": [
    "# 2. Simulate GL\n",
    "\n",
    "To simulate the GL from haplotypic allele counts, I'm going to use a similar approach than ANGSD `msToGlf` using the GL model from GATK (as shown in the picture abovell:\n",
    "\n",
    "1. sample the mean **coverage per haplotype** (assuming that coverage is **distributed normally** among individuals with a std = 0.05\\*mean  from the mean) \n",
    "2. sample **coverage per site per haplotype** (assuming **poison distribution** with lambda equal to the haplotype coverage)\n",
    "3. sample as many **alleles reads** as depth per site per haplotype from a **multinomial distribution** with probabilities (1-e, e/3, e/3, e/3), assuming that the first position in the array corresponds to calling the correctly the allele and the rest correspond to calling an error.\n",
    "4. assuming that index 0 = A = anc, index 1 = C = der, index 2 = G, index 3 = T, I'll **organize the allele read counts** in each array drawn from the multinomial distribution to correspond to the simulated allele counts per haplotype. Then, I'll **join every two haplotypes** to get the allele read counts per diploid individual.\n",
    "5. **Compute GLs**\n",
    "\n",
    "\n",
    "![Gl](GLsim/GL.png)\n",
    "\n",
    "source: \n",
    "1. http://www.popgen.dk/angsd/index.php/Genotype_Likelihoods\n",
    "2. https://bmcbioinformatics.biomedcentral.com/track/pdf/10.1186/1471-2105-14-289.pdf"
   ]
  },
  {
   "cell_type": "markdown",
   "id": "ac099cee-05c2-4285-a08d-dab3721429e3",
   "metadata": {},
   "source": [
    "## 2.1. Coverage per haplotype"
   ]
  },
  {
   "cell_type": "code",
   "execution_count": 6,
   "id": "a0f6c3da-1ca1-46f5-b714-9d3ce527ae3b",
   "metadata": {},
   "outputs": [
    {
     "name": "stdout",
     "output_type": "stream",
     "text": [
      "(10,)\n"
     ]
    },
    {
     "data": {
      "text/plain": [
       "array([12.59424479, 15.09614987, 16.11133694, 15.22892879, 16.29561584,\n",
       "       19.36964883, 12.78176496, 16.41820946, 12.50079681, 15.51561687])"
      ]
     },
     "execution_count": 6,
     "metadata": {},
     "output_type": "execute_result"
    }
   ],
   "source": [
    "rng = np.random.default_rng(1234) #Why setting the seed like this?\n",
    "mean_depth = 30\n",
    "#mean_depths = rng.exponential(mean_depth, size=A.shape[1]) #Why exponential?\n",
    "mean_depths = rng.normal(loc = mean_depth/2, scale = 0.05*mean_depth, size=M.shape[1])\n",
    "print(mean_depths.shape)\n",
    "mean_depths"
   ]
  },
  {
   "cell_type": "markdown",
   "id": "05306166-03cb-41ff-8db3-1b6ca28a8ab1",
   "metadata": {},
   "source": [
    "> ### Comments:\n",
    "1. Why is the coverage per individual sampled from an exponential distribution? I usually observe this to be normally distributed. I would be also nice to be able to define beforehand the coverage per sample.\n",
    "2. Why setting the coverage like that?"
   ]
  },
  {
   "cell_type": "markdown",
   "id": "d886144b-7886-451d-9b54-0c9464937ea6",
   "metadata": {},
   "source": [
    "## 2.2. Coverage per SNP per haplotype"
   ]
  },
  {
   "cell_type": "code",
   "execution_count": 7,
   "id": "0b321b43-724f-4e47-be40-abdd5f6d1e33",
   "metadata": {},
   "outputs": [
    {
     "name": "stdout",
     "output_type": "stream",
     "text": [
      "(115, 10)\n"
     ]
    },
    {
     "data": {
      "text/plain": [
       "array([[12, 17, 19, 11, 18, 18, 17, 10, 16, 20],\n",
       "       [11,  9, 16, 15, 25, 19, 10, 18, 12, 12],\n",
       "       [11, 13, 21,  9, 18, 30, 16, 14, 18,  8],\n",
       "       [12, 13, 25, 13, 14, 19, 15, 18,  9, 14],\n",
       "       [15, 17, 17,  6, 19, 22, 18, 10,  8, 15],\n",
       "       [ 6, 15, 13, 21, 24, 10,  8, 23, 10, 15],\n",
       "       [13, 26, 19, 15, 21, 12, 13, 16, 14, 12],\n",
       "       [ 9, 23, 19,  7, 17, 22, 16, 13, 18, 18],\n",
       "       [11, 20, 14,  6, 14, 16, 14, 21,  8, 15],\n",
       "       [11, 15, 17, 15,  7, 18, 13, 18, 16, 12]])"
      ]
     },
     "execution_count": 7,
     "metadata": {},
     "output_type": "execute_result"
    }
   ],
   "source": [
    "DP = rng.poisson(mean_depths, size=M.shape)\n",
    "print(DP.shape)\n",
    "DP[:10, :]"
   ]
  },
  {
   "cell_type": "markdown",
   "id": "0ff6f91d-6fbf-4fed-addf-e8f92c20dec2",
   "metadata": {},
   "source": [
    "> ### Comments:\n",
    "\n",
    "1. I don't think reshaping is necessary\n",
    "\n",
    "## 2.3. Sampling allele reads for each haplotype and site with and without errors\n",
    "\n",
    "Base pairs are coded in the following way:\n",
    "\n",
    "1. 0 = correctly called allele\n",
    "2. 1 = 2 = 3 = error called\n",
    "\n",
    "If we check the coverage per site per haplotype..."
   ]
  },
  {
   "cell_type": "code",
   "execution_count": 8,
   "id": "8daad3e5-ff19-4439-b687-b8ce48ee8894",
   "metadata": {},
   "outputs": [
    {
     "name": "stdout",
     "output_type": "stream",
     "text": [
      "(115, 10)\n"
     ]
    },
    {
     "data": {
      "text/plain": [
       "array([[12, 17, 19, ..., 10, 16, 20],\n",
       "       [11,  9, 16, ..., 18, 12, 12],\n",
       "       [11, 13, 21, ..., 14, 18,  8],\n",
       "       ...,\n",
       "       [10, 19, 17, ..., 12, 14,  9],\n",
       "       [15, 13, 18, ..., 19, 10, 20],\n",
       "       [11, 11, 14, ..., 20, 11, 21]])"
      ]
     },
     "execution_count": 8,
     "metadata": {},
     "output_type": "execute_result"
    }
   ],
   "source": [
    "print(DP.shape)\n",
    "DP"
   ]
  },
  {
   "cell_type": "markdown",
   "id": "992223aa-36d4-4b37-8704-4efe4ff71b0d",
   "metadata": {},
   "source": [
    "This means that for the first haplotype and first position there should be 12 alleles sampled in total. I'll do that by sampling from a multinomial distribution with probabilities (1-e, e/3, e/3, e/3)."
   ]
  },
  {
   "cell_type": "code",
   "execution_count": 9,
   "id": "a98d1479-ebf4-4a51-9cf8-79aeaca358ce",
   "metadata": {},
   "outputs": [
    {
     "name": "stdout",
     "output_type": "stream",
     "text": [
      "(115, 10, 4)\n"
     ]
    },
    {
     "data": {
      "text/plain": [
       "array([[[12,  0,  0,  0],\n",
       "        [17,  0,  0,  0],\n",
       "        [18,  1,  0,  0],\n",
       "        ...,\n",
       "        [10,  0,  0,  0],\n",
       "        [15,  1,  0,  0],\n",
       "        [19,  1,  0,  0]],\n",
       "\n",
       "       [[11,  0,  0,  0],\n",
       "        [ 9,  0,  0,  0],\n",
       "        [15,  0,  1,  0],\n",
       "        ...,\n",
       "        [16,  0,  1,  1],\n",
       "        [11,  1,  0,  0],\n",
       "        [12,  0,  0,  0]],\n",
       "\n",
       "       [[ 9,  1,  1,  0],\n",
       "        [11,  1,  1,  0],\n",
       "        [20,  1,  0,  0],\n",
       "        ...,\n",
       "        [13,  1,  0,  0],\n",
       "        [18,  0,  0,  0],\n",
       "        [ 8,  0,  0,  0]],\n",
       "\n",
       "       ...,\n",
       "\n",
       "       [[ 9,  0,  0,  1],\n",
       "        [18,  1,  0,  0],\n",
       "        [17,  0,  0,  0],\n",
       "        ...,\n",
       "        [12,  0,  0,  0],\n",
       "        [14,  0,  0,  0],\n",
       "        [ 9,  0,  0,  0]],\n",
       "\n",
       "       [[14,  0,  0,  1],\n",
       "        [11,  0,  2,  0],\n",
       "        [17,  0,  1,  0],\n",
       "        ...,\n",
       "        [19,  0,  0,  0],\n",
       "        [ 9,  1,  0,  0],\n",
       "        [20,  0,  0,  0]],\n",
       "\n",
       "       [[10,  1,  0,  0],\n",
       "        [10,  0,  0,  1],\n",
       "        [14,  0,  0,  0],\n",
       "        ...,\n",
       "        [18,  0,  0,  2],\n",
       "        [10,  0,  0,  1],\n",
       "        [21,  0,  0,  0]]])"
      ]
     },
     "execution_count": 9,
     "metadata": {},
     "output_type": "execute_result"
    }
   ],
   "source": [
    "e = 0.05\n",
    "reads_per_haplotype = np.array([rng.multinomial(dp, [1-e, e/3, e/3, e/3]).tolist() for dp in DP.reshape(-1)]).reshape(DP.shape[0], DP.shape[1], 4)\n",
    "print(reads_per_haplotype.shape)\n",
    "reads_per_haplotype"
   ]
  },
  {
   "cell_type": "markdown",
   "id": "5cf1e9b7-d302-40cd-bacb-d8c292a68c10",
   "metadata": {},
   "source": [
    "We can see that the first line summed up is the same as the first position in the depth array (DP) shown before. Rows that have counts in places other than the first position, correspond to errors. \n",
    "\n",
    "## 2.4. Organizing allele reads for each haplotype corresponding to the allele counts simulated\n",
    "\n",
    "In this section I'll change the counts of the first and second positions of every array depending on the allele counts `M` depending on a given individual and site having the derived or ancestral allele such that in a given array:\n",
    "\n",
    "1. index 0 = A = ancestral allele\n",
    "2. index 1 = C = derived allele\n",
    "3. index 2 = G\n",
    "4. index 3 = T\n",
    "\n",
    "So, if we check the M matrix:"
   ]
  },
  {
   "cell_type": "code",
   "execution_count": 10,
   "id": "da13884f-b2f3-4360-aaef-e90664ea7e83",
   "metadata": {},
   "outputs": [
    {
     "data": {
      "text/plain": [
       "array([[1, 1, 1, ..., 1, 1, 1],\n",
       "       [0, 0, 0, ..., 0, 0, 0],\n",
       "       [0, 1, 0, ..., 1, 0, 0],\n",
       "       ...,\n",
       "       [0, 1, 0, ..., 1, 0, 0],\n",
       "       [0, 0, 0, ..., 0, 0, 1],\n",
       "       [0, 0, 0, ..., 0, 0, 0]], dtype=int8)"
      ]
     },
     "execution_count": 10,
     "metadata": {},
     "output_type": "execute_result"
    }
   ],
   "source": [
    "M"
   ]
  },
  {
   "cell_type": "markdown",
   "id": "702885fd-e711-47c3-8104-67f34475294a",
   "metadata": {},
   "source": [
    "We can see that the first haplotype has a derived allele in the first SNP. Thus, we must swap the allele read counts between the first and second position of the first array in `reads_per_haplotype`."
   ]
  },
  {
   "cell_type": "code",
   "execution_count": 11,
   "id": "c792defe-4314-4878-8cff-be18bcfdd77c",
   "metadata": {},
   "outputs": [
    {
     "name": "stdout",
     "output_type": "stream",
     "text": [
      "(115, 10, 4)\n"
     ]
    },
    {
     "data": {
      "text/plain": [
       "array([[[ 0, 12,  0,  0],\n",
       "        [ 0, 17,  0,  0],\n",
       "        [ 1, 18,  0,  0],\n",
       "        ...,\n",
       "        [ 0, 10,  0,  0],\n",
       "        [ 1, 15,  0,  0],\n",
       "        [ 1, 19,  0,  0]],\n",
       "\n",
       "       [[11,  0,  0,  0],\n",
       "        [ 9,  0,  0,  0],\n",
       "        [15,  0,  1,  0],\n",
       "        ...,\n",
       "        [16,  0,  1,  1],\n",
       "        [11,  1,  0,  0],\n",
       "        [12,  0,  0,  0]],\n",
       "\n",
       "       [[ 9,  1,  1,  0],\n",
       "        [ 1, 11,  1,  0],\n",
       "        [20,  1,  0,  0],\n",
       "        ...,\n",
       "        [ 1, 13,  0,  0],\n",
       "        [18,  0,  0,  0],\n",
       "        [ 8,  0,  0,  0]],\n",
       "\n",
       "       ...,\n",
       "\n",
       "       [[ 9,  0,  0,  1],\n",
       "        [ 1, 18,  0,  0],\n",
       "        [17,  0,  0,  0],\n",
       "        ...,\n",
       "        [ 0, 12,  0,  0],\n",
       "        [14,  0,  0,  0],\n",
       "        [ 9,  0,  0,  0]],\n",
       "\n",
       "       [[14,  0,  0,  1],\n",
       "        [11,  0,  2,  0],\n",
       "        [17,  0,  1,  0],\n",
       "        ...,\n",
       "        [19,  0,  0,  0],\n",
       "        [ 9,  1,  0,  0],\n",
       "        [ 0, 20,  0,  0]],\n",
       "\n",
       "       [[10,  1,  0,  0],\n",
       "        [10,  0,  0,  1],\n",
       "        [14,  0,  0,  0],\n",
       "        ...,\n",
       "        [18,  0,  0,  2],\n",
       "        [10,  0,  0,  1],\n",
       "        [21,  0,  0,  0]]])"
      ]
     },
     "execution_count": 11,
     "metadata": {},
     "output_type": "execute_result"
    }
   ],
   "source": [
    "reads_per_haplotype_copy = np.copy(reads_per_haplotype)\n",
    "reads_per_haplotype[M == 1, 1] = reads_per_haplotype_copy[M == 1, 0]\n",
    "reads_per_haplotype[M == 1, 0] = reads_per_haplotype_copy[M == 1, 1]\n",
    "print(reads_per_haplotype.shape)\n",
    "reads_per_haplotype"
   ]
  },
  {
   "cell_type": "markdown",
   "id": "3989843f-4c87-4a4c-8cd6-eb4d96e1e9bf",
   "metadata": {},
   "source": [
    "We can see that with this operation, the allele counts for the first and second position of SNPs for which haplotypes have the derived allele called have been swapped. \n",
    "\n",
    "> ### Comments:\n",
    "\n",
    "1. There might be a better way to do this operation with numpy...\n",
    "\n",
    "Finally, I can merge every two haplotypes to simulate diploid individuals. So, instead of having 10 haplotypes, I'll have only 5 individuals with the information corresponding to the allele read counts for every site. "
   ]
  },
  {
   "cell_type": "code",
   "execution_count": 12,
   "id": "4f11968a-8269-400e-b143-a934f0e7e38e",
   "metadata": {},
   "outputs": [
    {
     "name": "stdout",
     "output_type": "stream",
     "text": [
      "(115, 5, 4)\n"
     ]
    },
    {
     "data": {
      "text/plain": [
       "array([[[ 0, 29,  0,  0],\n",
       "        [ 1, 29,  0,  0],\n",
       "        [18, 18,  0,  0],\n",
       "        [ 0, 27,  0,  0],\n",
       "        [ 2, 34,  0,  0]],\n",
       "\n",
       "       [[20,  0,  0,  0],\n",
       "        [30,  0,  1,  0],\n",
       "        [23, 20,  1,  0],\n",
       "        [25,  0,  2,  1],\n",
       "        [23,  1,  0,  0]],\n",
       "\n",
       "       [[10, 12,  2,  0],\n",
       "        [20, 10,  0,  0],\n",
       "        [17, 27,  1,  3],\n",
       "        [16, 13,  1,  0],\n",
       "        [26,  0,  0,  0]],\n",
       "\n",
       "       ...,\n",
       "\n",
       "       [[10, 18,  0,  1],\n",
       "        [25,  2,  0,  0],\n",
       "        [ 0, 37,  1,  1],\n",
       "        [14, 12,  0,  0],\n",
       "        [23,  0,  0,  0]],\n",
       "\n",
       "       [[25,  0,  2,  1],\n",
       "        [33,  0,  1,  0],\n",
       "        [35,  1,  0,  0],\n",
       "        [19, 15,  1,  0],\n",
       "        [ 9, 21,  0,  0]],\n",
       "\n",
       "       [[20,  1,  0,  1],\n",
       "        [14, 10,  0,  0],\n",
       "        [38,  0,  1,  0],\n",
       "        [29,  0,  1,  2],\n",
       "        [31,  0,  0,  1]]])"
      ]
     },
     "execution_count": 12,
     "metadata": {},
     "output_type": "execute_result"
    }
   ],
   "source": [
    "reads_per_genotype = reads_per_haplotype.reshape(reads_per_haplotype.shape[0], reads_per_haplotype.shape[1]//2, 2, reads_per_haplotype.shape[2]).sum(axis = 2)\n",
    "print(reads_per_genotype.shape)\n",
    "reads_per_genotype"
   ]
  },
  {
   "cell_type": "markdown",
   "id": "28c6e979-ff5e-4d07-b80b-1695e6099d9a",
   "metadata": {},
   "source": [
    "## 2.5. Compute GLs"
   ]
  },
  {
   "cell_type": "code",
   "execution_count": 38,
   "id": "b93a7eb5-008a-4588-b56f-2feeee90958d",
   "metadata": {},
   "outputs": [
    {
     "name": "stdout",
     "output_type": "stream",
     "text": [
      "(10, 115, 5)\n"
     ]
    },
    {
     "data": {
      "text/plain": [
       "array([[[117.24848677, 113.2054355 ,  48.44772706, 109.16238423,\n",
       "         129.37764057],\n",
       "        [  0.        ,   0.        ,  51.80354153,   0.        ,\n",
       "           0.        ],\n",
       "        [ 33.64999558,  20.15784954,  79.42914497,  32.96275878,\n",
       "           0.        ],\n",
       "        ...,\n",
       "        [ 53.85377056,   0.        , 149.59289691,  30.94697383,\n",
       "           0.        ],\n",
       "        [  0.        ,   0.        ,   0.        ,  37.67008413,\n",
       "          64.63141349],\n",
       "        [  0.        ,  24.21238217,   0.        ,   0.        ,\n",
       "           0.        ]],\n",
       "\n",
       "       [[ 19.5969077 ,  16.22961187,   0.        ,  18.24539682,\n",
       "          16.24109323],\n",
       "        [ 13.51510876,  20.27266314,   0.        ,  16.89388595,\n",
       "          12.17507924],\n",
       "        [  0.        ,   0.        ,   0.        ,   0.        ,\n",
       "          17.56964138],\n",
       "        ...,\n",
       "        [  0.        ,  10.15929429,  25.0029512 ,   0.        ,\n",
       "          15.54237507],\n",
       "        [ 16.89388595,  22.29992945,  20.28414449,   0.        ,\n",
       "           0.        ],\n",
       "        [ 10.14781293,   0.        ,  25.67870664,  19.5969077 ,\n",
       "          20.94841857]],\n",
       "\n",
       "       [[117.24848677, 113.88119094,  60.61132494, 109.16238423,\n",
       "         130.72915145],\n",
       "        [ 13.51510876,  16.90536731,  63.97862077,  10.15929429,\n",
       "          15.54237507],\n",
       "        [ 33.6729583 ,  33.6729583 ,  87.54969158,  40.40754996,\n",
       "          17.56964138],\n",
       "        ...,\n",
       "        [ 60.61132494,  16.89388595, 146.22560108,  40.40754996,\n",
       "          15.54237507],\n",
       "        [ 10.15929429,  18.93263362,  23.65144032,  47.14214162,\n",
       "          70.71321243],\n",
       "        [ 13.51510876,  33.6729583 ,  22.31141081,  16.22961187,\n",
       "          20.94841857]],\n",
       "\n",
       "       ...,\n",
       "\n",
       "       [[117.24848677, 117.24848677, 121.22264988, 109.16238423,\n",
       "         137.46374311],\n",
       "        [ 80.86102536, 117.24848677, 140.75066942,  92.99017916,\n",
       "          92.99017916],\n",
       "        [ 65.99440572, 101.0188749 , 144.11796525,  93.6085278 ,\n",
       "         105.11933296],\n",
       "        ...,\n",
       "        [ 94.28428324, 101.0762817 , 145.54984564,  87.54969158,\n",
       "          92.99017916],\n",
       "        [ 92.99017916, 129.37764057, 141.50679437, 110.44500695,\n",
       "         101.0188749 ],\n",
       "        [ 80.86102536,  80.81509992, 149.59289691, 113.2054355 ,\n",
       "         125.3345893 ]],\n",
       "\n",
       "       [[117.24848677, 117.24848677, 121.22264988, 109.16238423,\n",
       "         137.46374311],\n",
       "        [ 80.86102536, 117.92424221, 141.42642486,  90.97439421,\n",
       "          92.99017916],\n",
       "        [ 67.3459166 , 101.0188749 , 134.6918332 ,  94.28428324,\n",
       "         105.11933296],\n",
       "        ...,\n",
       "        [ 90.91698741, 101.0762817 , 142.85830525,  87.54969158,\n",
       "          92.99017916],\n",
       "        [ 90.97439421, 130.05339601, 141.50679437, 111.12076239,\n",
       "         101.0188749 ],\n",
       "        [ 77.49372953,  80.81509992, 150.26865235, 107.14659928,\n",
       "         121.96729347]],\n",
       "\n",
       "       [[117.24848677, 117.24848677, 121.22264988, 109.16238423,\n",
       "         137.46374311],\n",
       "        [ 80.86102536, 121.29153804, 144.79372069,  97.03323043,\n",
       "          92.99017916],\n",
       "        [ 74.08050826, 101.0188749 , 136.03186272,  97.65157907,\n",
       "         105.11933296],\n",
       "        ...,\n",
       "        [ 90.24123197, 101.0762817 , 145.54984564,  87.54969158,\n",
       "          92.99017916],\n",
       "        [ 97.03323043, 133.42069184, 141.50679437, 114.48805822,\n",
       "         101.0188749 ],\n",
       "        [ 76.81797409,  80.81509992, 153.63594818, 109.16238423,\n",
       "         121.29153804]]])"
      ]
     },
     "execution_count": 38,
     "metadata": {},
     "output_type": "execute_result"
    }
   ],
   "source": [
    "#AA, AC, AG, AT, CC, CG, CT, GG, GT, TT\n",
    "#00, 01, 02, 03, 11, 12, 13, 22, 23, 33\n",
    "GL = []\n",
    "for i in range(4):\n",
    "    for j in range(i, 4):\n",
    "        if i == j:\n",
    "            GL.append(-np.log(np.power(((1-e)/2 + (1-e)/2), reads_per_genotype[:, :, i]) * \n",
    "                             np.power(((e/3)/2 + (e/3)/2), reads_per_genotype.sum(axis = 2)-reads_per_genotype[:, :, i])))\n",
    "        else:\n",
    "            \n",
    "            GL.append(-np.log(np.power(((1-e)/2 + (e/3)/2), reads_per_genotype[:, :, i]+reads_per_genotype[:, :, j]) * \n",
    "                             np.power(((e/3)/2 + (e/3)/2), reads_per_genotype.sum(axis = 2)-reads_per_genotype[:, :, i]-reads_per_genotype[:, :, j])))\n",
    "\n",
    "GL = np.array(GL)\n",
    "GL = GL - GL.min(axis = 0)\n",
    "print(GL.shape)\n",
    "GL"
   ]
  },
  {
   "cell_type": "markdown",
   "id": "83f30383-75e9-44ef-be35-ec1012d0cedb",
   "metadata": {},
   "source": [
    "## 3. All together and running time tests\n",
    "\n",
    "Here I just put all the steps together in a single function and run it for different simulated datasets with varying number of individuals to test how fast the function is. "
   ]
  },
  {
   "cell_type": "code",
   "execution_count": 96,
   "id": "ae410aba-8d16-4521-b6c2-6b929fd75ecb",
   "metadata": {},
   "outputs": [
    {
     "name": "stdout",
     "output_type": "stream",
     "text": [
      "(115, 5, 4)\n"
     ]
    },
    {
     "data": {
      "text/plain": [
       "array([[[ 1, 11,  0,  1],\n",
       "        [ 0, 12,  1,  2],\n",
       "        [15, 12,  1,  1],\n",
       "        [ 0, 12,  0,  0],\n",
       "        [ 0, 13,  1,  0]],\n",
       "\n",
       "       [[ 7,  0,  0,  0],\n",
       "        [15,  0,  0,  0],\n",
       "        [ 9, 15,  0,  0],\n",
       "        [13,  0,  0,  0],\n",
       "        [10,  1,  0,  1]],\n",
       "\n",
       "       [[ 4,  2,  1,  1],\n",
       "        [12,  6,  0,  0],\n",
       "        [13, 12,  0,  0],\n",
       "        [ 6,  3,  0,  0],\n",
       "        [ 9,  0,  0,  0]],\n",
       "\n",
       "       ...,\n",
       "\n",
       "       [[ 5,  8,  0,  0],\n",
       "        [14,  0,  3,  0],\n",
       "        [ 0, 19,  0,  0],\n",
       "        [ 4, 12,  0,  0],\n",
       "        [11,  0,  0,  0]],\n",
       "\n",
       "       [[ 5,  0,  1,  0],\n",
       "        [18,  0,  0,  1],\n",
       "        [19,  1,  1,  1],\n",
       "        [10,  1,  0,  0],\n",
       "        [ 2,  2,  2,  0]],\n",
       "\n",
       "       [[12,  0,  0,  0],\n",
       "        [11,  5,  0,  0],\n",
       "        [20,  1,  0,  0],\n",
       "        [14,  0,  1,  0],\n",
       "        [ 8,  0,  0,  0]]])"
      ]
     },
     "execution_count": 96,
     "metadata": {},
     "output_type": "execute_result"
    }
   ],
   "source": [
    "def samples_order(ts):\n",
    "    so = []\n",
    "    for ind in ts.individuals():\n",
    "        [so.append(nod) for nod in ind.nodes]\n",
    "    return np.array(so)\n",
    "\n",
    "def extract_genotype_matrix(data):\n",
    "    if type(data) == np.ndarray and len(data.shape) == 2:\n",
    "        return data\n",
    "    elif type(data) == tskit.trees.TreeSequence:\n",
    "        return data.genotype_matrix()[:, samples_order(data)]\n",
    "    else:\n",
    "        sys.exit(\"Incorrect data format\")\n",
    "\n",
    "def depth_per_haplotype(rng, mean_depth, std_depth, n_ind):\n",
    "    if type(mean_depth) == int or type(mean_depth) == float:\n",
    "        if type(std_depth) == int or type(std_depth) == float:\n",
    "            DPh = []\n",
    "            while len(DPh) < n_ind:\n",
    "                dp = rng.normal(loc = mean_depth/2, scale = std_depth, size=1)[0]\n",
    "                if dp > 0:\n",
    "                    DPh.append(dp)\n",
    "            return DPh\n",
    "    elif type(mean_depth) == np.ndarray and len(mean_depth.shape) == 1 and mean_depth.shape[0] == n_ind and (mean_depth > 0).sum() == n_ind:\n",
    "        return mean_depth\n",
    "    else:\n",
    "        sys.exit(\"Incorrect mean_depth format\")\n",
    "        \n",
    "        \n",
    "def sim_allelereadcounts(data, mean_depth = 30., std_depth = 5., e = 0.05, seed = 1234):\n",
    "    '''\n",
    "    Def:\n",
    "        Function to simulate read counts for alleles given a tree sequence data from diploid simulated individuals (2samples = ind) \n",
    "        or genotype matrix and extra information for the haplotype samples.\n",
    "    Input:\n",
    "        - data       : Two inputs are possible:\n",
    "                            + Tree sequence data from tskit package from which the genotype matrix is going to be extracted\n",
    "                            + Genotype matrix in numpy format with shape (SNPs, samples). It is assumed that the array is sorted\n",
    "                              according to a individual order such that consecutive columns (e.g., data[:, 0] and data[:, 1]) \n",
    "                              correspond to the same individual.\n",
    "        - mean_depth : Two inputs are possible:\n",
    "                            + float > 0 with the mean depth per sample. The mean depth for every sample haplotype \n",
    "                              is going to be sampled from a normal distribution with mean = mean_depth and std = std_depth.\n",
    "                              Consider that since this script assumes that individuals are diploid, if the user intends to \n",
    "                              simulate a coverage of 30X per individual, the argument should be set to 15.\n",
    "                            + numpy array with shape (samples, ) with the mean depth per haplotype sample. All values must \n",
    "                              be > 0. The order of the values is going to be associated to the list of individual's samples\n",
    "                              provided by ts.individuals() (in case a tree sequence data is provided) or the order of the\n",
    "                              samples in the genotype matrix (if a genotype matrix is provided in the input data).\n",
    "                              If the intended coverage per site for a given individual is 30, since the coverage is \n",
    "                              given per haplotype, it should be indicated consecutively and half the individual coverage (15 \n",
    "                              and 15 or 14 and 16).\n",
    "        - std_depth  : float that corresponds to the standard deviation of the normal distribution from which coverages are\n",
    "                       going to be sampled. This value will only be used if a float value is inputet for mean_depth. \n",
    "        - e          : float between 0 and 1 representing the error rate per base per read per site. This probability is\n",
    "                       assumed to be constant.\n",
    "        - seed       : integer from which the numpy rng will be drawn. \n",
    "    Output:\n",
    "        - Rg         : numpy array with dimentions (SNP, individual, alleles) so that each value corresponds to the number of\n",
    "                       reads with a particular allele for a SNP position and a diploid individual. The index of the 3rd dimention\n",
    "                       corresponds to 1 : A and ancestral allele, 2 : C and derived allele, 3 : G, 4: T. \n",
    "    '''\n",
    "    rng = np.random.default_rng(seed)\n",
    "    M   = extract_genotype_matrix(data)\n",
    "    #1. Depths per haplotype\n",
    "    DPh = depth_per_haplotype(rng, mean_depth, std_depth, M.shape[1])\n",
    "    #2. Sample depths per SNP per haplotype\n",
    "    DP  = rng.poisson(DPh, size=M.shape)\n",
    "    #3. Sample correct and error reads per SNP per haplotype (Rh)\n",
    "    Rh  = np.array([rng.multinomial(dp, [1-e, e/3, e/3, e/3]).tolist() for dp in DP.reshape(-1)])\n",
    "    Rh  = Rh.reshape(DP.shape[0], DP.shape[1], 4)\n",
    "    #4. Reorganize anc and der alleles and join haplotypes to form individuals\n",
    "    Rh_copy = np.copy(Rh)\n",
    "    Rh[M == 1, 1] = Rh_copy[M == 1, 0]\n",
    "    Rh[M == 1, 0] = Rh_copy[M == 1, 1]\n",
    "    return Rh.reshape(Rh.shape[0], Rh.shape[1]//2, 2, Rh.shape[2]).sum(axis = 2)\n",
    "\n",
    "    \n",
    "def allelereadcounts_to_GL(Rg):\n",
    "    GL = []\n",
    "    for i in range(4):\n",
    "        for j in range(i, 4):\n",
    "            if i == j:\n",
    "                GL.append(-np.log(np.power(((1-e)/2 + (1-e)/2), Rg[:, :, i]) * \n",
    "                                  np.power(((e/3)/2 + (e/3)/2), Rg.sum(axis = 2)-Rg[:, :, i])))\n",
    "            else:\n",
    "            \n",
    "                GL.append(-np.log(np.power(((1-e)/2 + (e/3)/2), Rg[:, :, i]+Rg[:, :, j]) * \n",
    "                                  np.power(((e/3)/2 + (e/3)/2), Rg.sum(axis = 2)-Rg[:, :, i]-Rg[:, :, j])))\n",
    "\n",
    "    GL = np.array(GL)\n",
    "    return GL - GL.min(axis = 0)\n",
    "\n"
   ]
  },
  {
   "cell_type": "code",
   "execution_count": 97,
   "id": "f35a7483-a948-4e19-8de8-025e17ea4310",
   "metadata": {},
   "outputs": [
    {
     "name": "stdout",
     "output_type": "stream",
     "text": [
      "(115, 5, 4)\n",
      "[[[ 1 11  0  1]\n",
      "  [ 0 12  1  2]\n",
      "  [15 12  1  1]\n",
      "  [ 0 12  0  0]\n",
      "  [ 0 13  1  0]]\n",
      "\n",
      " [[ 7  0  0  0]\n",
      "  [15  0  0  0]\n",
      "  [ 9 15  0  0]\n",
      "  [13  0  0  0]\n",
      "  [10  1  0  1]]\n",
      "\n",
      " [[ 4  2  1  1]\n",
      "  [12  6  0  0]\n",
      "  [13 12  0  0]\n",
      "  [ 6  3  0  0]\n",
      "  [ 9  0  0  0]]\n",
      "\n",
      " ...\n",
      "\n",
      " [[ 5  8  0  0]\n",
      "  [14  0  3  0]\n",
      "  [ 0 19  0  0]\n",
      "  [ 4 12  0  0]\n",
      "  [11  0  0  0]]\n",
      "\n",
      " [[ 5  0  1  0]\n",
      "  [18  0  0  1]\n",
      "  [19  1  1  1]\n",
      "  [10  1  0  0]\n",
      "  [ 2  2  2  0]]\n",
      "\n",
      " [[12  0  0  0]\n",
      "  [11  5  0  0]\n",
      "  [20  1  0  0]\n",
      "  [14  0  1  0]\n",
      "  [ 8  0  0  0]]]\n"
     ]
    }
   ],
   "source": [
    "ts = sim(seeds=(1, 2), n = 5)\n",
    "ts\n",
    "Rg = sim_allelereadcounts(ts, mean_depth = 15., std_depth = 3., e = 0.05, seed = 1234)\n",
    "print(Rg.shape)\n",
    "print(Rg)"
   ]
  },
  {
   "cell_type": "code",
   "execution_count": 98,
   "id": "4ea773bb-da0d-4f3f-9dbd-a318a5fd3908",
   "metadata": {},
   "outputs": [
    {
     "name": "stdout",
     "output_type": "stream",
     "text": [
      "(10, 115, 5)\n",
      "[[[4.04305127e+01 4.85166152e+01 3.02712184e+01 4.85166152e+01\n",
      "   5.25596665e+01]\n",
      "  [0.00000000e+00 0.00000000e+00 4.44276385e+01 0.00000000e+00\n",
      "   0.00000000e+00]\n",
      "  [4.03156991e+00 1.20947097e+01 3.16227293e+01 6.04735486e+00\n",
      "   0.00000000e+00]\n",
      "  ...\n",
      "  [2.35595895e+01 6.41311360e-01 7.68179741e+01 3.77045282e+01\n",
      "   0.00000000e+00]\n",
      "  [0.00000000e+00 0.00000000e+00 0.00000000e+00 0.00000000e+00\n",
      "   5.38308078e+00]\n",
      "  [0.00000000e+00 9.40316933e+00 0.00000000e+00 0.00000000e+00\n",
      "   0.00000000e+00]]\n",
      "\n",
      " [[4.06601399e+00 8.10906525e+00 0.00000000e+00 8.10906525e+00\n",
      "   8.78482069e+00]\n",
      "  [4.73028806e+00 1.01363316e+01 0.00000000e+00 8.78482069e+00\n",
      "   3.39025855e+00]\n",
      "  [0.00000000e+00 0.00000000e+00 0.00000000e+00 0.00000000e+00\n",
      "   6.08179894e+00]\n",
      "  ...\n",
      "  [0.00000000e+00 1.01018875e+01 1.28393533e+01 0.00000000e+00\n",
      "   7.43330982e+00]\n",
      "  [3.37877719e+00 1.21635979e+01 9.47205749e+00 3.39025855e+00\n",
      "   0.00000000e+00]\n",
      "  [8.10906525e+00 0.00000000e+00 1.01478129e+01 9.46057613e+00\n",
      "   5.40604350e+00]]\n",
      "\n",
      " [[4.11062681e+01 4.51493194e+01 3.70402541e+01 4.85166152e+01\n",
      "   4.91923707e+01]\n",
      "  [4.73028806e+00 1.01363316e+01 5.05094374e+01 8.78482069e+00\n",
      "   6.75755438e+00]\n",
      "  [3.36729583e+00 2.02037750e+01 4.04075500e+01 1.01018875e+01\n",
      "   6.08179894e+00]\n",
      "  ...\n",
      "  [2.69383666e+01 0.00000000e+00 7.68179741e+01 4.04075500e+01\n",
      "   7.43330982e+00]\n",
      "  [1.14813593e-02 1.21635979e+01 9.47205749e+00 6.75755438e+00\n",
      "   0.00000000e+00]\n",
      "  [8.10906525e+00 1.68364791e+01 1.35151088e+01 6.09328030e+00\n",
      "   5.40604350e+00]]\n",
      "\n",
      " ...\n",
      "\n",
      " [[4.44735639e+01 4.44735639e+01 8.68739361e+01 4.85166152e+01\n",
      "   4.85166152e+01]\n",
      "  [2.83013589e+01 6.06457690e+01 8.08150999e+01 5.25596665e+01\n",
      "   4.04305127e+01]\n",
      "  [1.61607237e+01 6.06113249e+01 8.41823957e+01 3.03056625e+01\n",
      "   3.63874614e+01]\n",
      "  ...\n",
      "  [4.37748458e+01 4.51148753e+01 7.68179741e+01 5.38767333e+01\n",
      "   4.44735639e+01]\n",
      "  [1.61722051e+01 7.27749228e+01 7.27749228e+01 4.04305127e+01\n",
      "   5.38308078e+00]\n",
      "  [4.85166152e+01 5.38767333e+01 8.08610254e+01 5.25596665e+01\n",
      "   3.23444101e+01]]\n",
      "\n",
      " [[4.11062681e+01 3.84147277e+01 8.41823957e+01 4.85166152e+01\n",
      "   4.91923707e+01]\n",
      "  [2.83013589e+01 6.06457690e+01 8.08150999e+01 5.25596665e+01\n",
      "   3.70632168e+01]\n",
      "  [1.34691833e+01 6.06113249e+01 8.41823957e+01 3.03056625e+01\n",
      "   3.63874614e+01]\n",
      "  ...\n",
      "  [4.37748458e+01 4.71421416e+01 7.68179741e+01 5.38767333e+01\n",
      "   4.44735639e+01]\n",
      "  [1.68479605e+01 6.94076270e+01 7.00833824e+01 4.04305127e+01\n",
      "   6.73459166e+00]\n",
      "  [4.85166152e+01 5.38767333e+01 8.08610254e+01 5.32354219e+01\n",
      "   3.23444101e+01]]\n",
      "\n",
      " [[4.04305127e+01 4.04305127e+01 8.68739361e+01 4.85166152e+01\n",
      "   5.25596665e+01]\n",
      "  [2.83013589e+01 6.06457690e+01 8.08150999e+01 5.25596665e+01\n",
      "   3.63874614e+01]\n",
      "  [1.61607237e+01 6.06113249e+01 8.41823957e+01 3.03056625e+01\n",
      "   3.63874614e+01]\n",
      "  ...\n",
      "  [4.37748458e+01 5.72440291e+01 7.68179741e+01 5.38767333e+01\n",
      "   4.44735639e+01]\n",
      "  [2.02152563e+01 6.87318716e+01 7.27749228e+01 4.04305127e+01\n",
      "   1.34691833e+01]\n",
      "  [4.85166152e+01 5.38767333e+01 8.08610254e+01 5.66027177e+01\n",
      "   3.23444101e+01]]]\n"
     ]
    }
   ],
   "source": [
    "GL = allelereadcounts_to_GL(Rg)\n",
    "print(GL.shape)\n",
    "print(GL)"
   ]
  },
  {
   "cell_type": "code",
   "execution_count": 40,
   "id": "8cae97f6-a524-42c5-9bff-db9825e8f386",
   "metadata": {},
   "outputs": [
    {
     "name": "stdout",
     "output_type": "stream",
     "text": [
      "5\n",
      "10\n",
      "50\n",
      "100\n",
      "500\n",
      "1000\n",
      "5000\n"
     ]
    }
   ],
   "source": [
    "ns = [5, 10, 50, 100, 500, 1000, 5000]\n",
    "xs = []\n",
    "ws = []\n",
    "for n in ns:\n",
    "    print(n)\n",
    "    ts = sim(seeds=(1, 2), n = n)\n",
    "    xs.append(ts.num_mutations)\n",
    "    start_time = time.time()\n",
    "    sim_GL(ts, mean_depth = 30, e = 0.05, seed = 1234)\n",
    "    ws.append(time.time()-start_time)"
   ]
  },
  {
   "cell_type": "code",
   "execution_count": 41,
   "id": "0cd74802-8d3a-4ce1-b86c-cab410fccb34",
   "metadata": {},
   "outputs": [
    {
     "data": {
      "text/html": [
       "<div>\n",
       "<style scoped>\n",
       "    .dataframe tbody tr th:only-of-type {\n",
       "        vertical-align: middle;\n",
       "    }\n",
       "\n",
       "    .dataframe tbody tr th {\n",
       "        vertical-align: top;\n",
       "    }\n",
       "\n",
       "    .dataframe thead th {\n",
       "        text-align: right;\n",
       "    }\n",
       "</style>\n",
       "<table border=\"1\" class=\"dataframe\">\n",
       "  <thead>\n",
       "    <tr style=\"text-align: right;\">\n",
       "      <th></th>\n",
       "      <th>n_ind</th>\n",
       "      <th>n_snp</th>\n",
       "      <th>time</th>\n",
       "    </tr>\n",
       "  </thead>\n",
       "  <tbody>\n",
       "    <tr>\n",
       "      <th>0</th>\n",
       "      <td>5</td>\n",
       "      <td>115</td>\n",
       "      <td>0.019819</td>\n",
       "    </tr>\n",
       "    <tr>\n",
       "      <th>1</th>\n",
       "      <td>10</td>\n",
       "      <td>174</td>\n",
       "      <td>0.044800</td>\n",
       "    </tr>\n",
       "    <tr>\n",
       "      <th>2</th>\n",
       "      <td>50</td>\n",
       "      <td>192</td>\n",
       "      <td>0.261390</td>\n",
       "    </tr>\n",
       "    <tr>\n",
       "      <th>3</th>\n",
       "      <td>100</td>\n",
       "      <td>303</td>\n",
       "      <td>0.852991</td>\n",
       "    </tr>\n",
       "    <tr>\n",
       "      <th>4</th>\n",
       "      <td>500</td>\n",
       "      <td>397</td>\n",
       "      <td>5.395216</td>\n",
       "    </tr>\n",
       "    <tr>\n",
       "      <th>5</th>\n",
       "      <td>1000</td>\n",
       "      <td>448</td>\n",
       "      <td>12.893942</td>\n",
       "    </tr>\n",
       "    <tr>\n",
       "      <th>6</th>\n",
       "      <td>5000</td>\n",
       "      <td>479</td>\n",
       "      <td>65.528899</td>\n",
       "    </tr>\n",
       "  </tbody>\n",
       "</table>\n",
       "</div>"
      ],
      "text/plain": [
       "   n_ind  n_snp       time\n",
       "0      5    115   0.019819\n",
       "1     10    174   0.044800\n",
       "2     50    192   0.261390\n",
       "3    100    303   0.852991\n",
       "4    500    397   5.395216\n",
       "5   1000    448  12.893942\n",
       "6   5000    479  65.528899"
      ]
     },
     "execution_count": 41,
     "metadata": {},
     "output_type": "execute_result"
    }
   ],
   "source": [
    "df = pd.DataFrame({\"n_ind\" : ns, \"n_snp\" : xs, \"time\" :ws})\n",
    "df"
   ]
  },
  {
   "cell_type": "code",
   "execution_count": 42,
   "id": "e09833d5-5c4b-4f33-b63e-9277d2d308f7",
   "metadata": {},
   "outputs": [
    {
     "data": {
      "image/png": "[encoded data removed]"
     },
     "metadata": {},
     "output_type": "display_data"
    }
   ],
   "source": [
    "%%R -i df\n",
    "\n",
    "df %>% \n",
    "    ggplot(aes(x = n_ind*n_snp, y = time/60)) +\n",
    "    geom_point() +\n",
    "    geom_abline(intercept = 0, slope = 4.7e-7)"
   ]
  },
  {
   "cell_type": "markdown",
   "id": "6b345b0c-43d0-4a91-8e03-8ede19830672",
   "metadata": {},
   "source": [
    "So, we can se that to simulate GL for 10,000 individuals it takes less than 3 min. \n",
    "\n",
    "## 4. Further improvements\n",
    "\n",
    "1. Introduce potential errors to invariable sites\n",
    "2. Make possible a different reference sequence such that we do not need to assume that A = anc and C = der.\n",
    "3. Check the order of individuals since nodes can be messed up. Check if the index of nodes it always goes from 0 to # nodes and are sorted in genotype matrix accordingly.\n",
    "4. allow any ploidy"
   ]
  },
  {
   "cell_type": "code",
   "execution_count": null,
   "id": "7658c7ac-4800-40da-b6db-5c34f23da13c",
   "metadata": {},
   "outputs": [],
   "source": []
  }
 ],
 "metadata": {
  "kernelspec": {
   "display_name": "Python 3 (ipykernel)",
   "language": "python",
   "name": "python3"
  },
  "language_info": {
   "codemirror_mode": {
    "name": "ipython",
    "version": 3
   },
   "file_extension": ".py",
   "mimetype": "text/x-python",
   "name": "python",
   "nbconvert_exporter": "python",
   "pygments_lexer": "ipython3",
   "version": "3.10.0"
  }
 },
 "nbformat": 4,
 "nbformat_minor": 5
}
